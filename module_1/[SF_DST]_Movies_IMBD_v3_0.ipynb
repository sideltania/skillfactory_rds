{
  "nbformat": 4,
  "nbformat_minor": 0,
  "metadata": {
    "kernelspec": {
      "display_name": "Python 3",
      "language": "python",
      "name": "python3"
    },
    "language_info": {
      "codemirror_mode": {
        "name": "ipython",
        "version": 3
      },
      "file_extension": ".py",
      "mimetype": "text/x-python",
      "name": "python",
      "nbconvert_exporter": "python",
      "pygments_lexer": "ipython3",
      "version": "3.6.6"
    },
    "colab": {
      "name": "[SF-DST] Movies IMBD v3.0.ipynb",
      "provenance": [],
      "include_colab_link": true
    }
  },
  "cells": [
    {
      "cell_type": "markdown",
      "metadata": {
        "id": "view-in-github",
        "colab_type": "text"
      },
      "source": [
        "<a href=\"https://colab.research.google.com/github/sideltania/skillfactory_rds/blob/master/%5BSF_DST%5D_Movies_IMBD_v3_0.ipynb\" target=\"_parent\"><img src=\"https://colab.research.google.com/assets/colab-badge.svg\" alt=\"Open In Colab\"/></a>"
      ]
    },
    {
      "cell_type": "code",
      "metadata": {
        "_cell_guid": "b1076dfc-b9ad-4769-8c92-a6c4dae69d19",
        "_uuid": "8f2839f25d086af736a60e9eeb907d3b93b6e0e5",
        "trusted": true,
        "id": "r7H6UsnyD6e8",
        "colab_type": "code",
        "outputId": "6af1b60a-9526-4eac-cbc5-b4581bfab9ec",
        "colab": {
          "base_uri": "https://localhost:8080/",
          "height": 173
        }
      },
      "source": [
        "from google.colab import drive\n",
        "drive.mount('/content/drive')\n",
        "import os\n",
        "import numpy as np\n",
        "import pandas as pd\n",
        "import seaborn as sns\n",
        "import matplotlib.pyplot as plt\n",
        "from collections import Counter\n",
        "print(os.chdir(\"/content/drive/My Drive/\"))"
      ],
      "execution_count": 1,
      "outputs": [
        {
          "output_type": "stream",
          "text": [
            "Go to this URL in a browser: https://accounts.google.com/o/oauth2/auth?client_id=947318989803-6bn6qk8qdgf4n4g3pfee6491hc0brc4i.apps.googleusercontent.com&redirect_uri=urn%3aietf%3awg%3aoauth%3a2.0%3aoob&response_type=code&scope=email%20https%3a%2f%2fwww.googleapis.com%2fauth%2fdocs.test%20https%3a%2f%2fwww.googleapis.com%2fauth%2fdrive%20https%3a%2f%2fwww.googleapis.com%2fauth%2fdrive.photos.readonly%20https%3a%2f%2fwww.googleapis.com%2fauth%2fpeopleapi.readonly\n",
            "\n",
            "Enter your authorization code:\n",
            "··········\n",
            "Mounted at /content/drive\n",
            "None\n"
          ],
          "name": "stdout"
        },
        {
          "output_type": "stream",
          "text": [
            "/usr/local/lib/python3.6/dist-packages/statsmodels/tools/_testing.py:19: FutureWarning: pandas.util.testing is deprecated. Use the functions in the public API at pandas.testing instead.\n",
            "  import pandas.util.testing as tm\n"
          ],
          "name": "stderr"
        }
      ]
    },
    {
      "cell_type": "code",
      "metadata": {
        "trusted": true,
        "id": "ijgbEieTD6fE",
        "colab_type": "code",
        "outputId": "306d9e45-c2d0-4d76-ac7b-0b0538e6231c",
        "colab": {
          "base_uri": "https://localhost:8080/",
          "height": 1000
        }
      },
      "source": [
        "data = pd.read_csv('data.csv')\n",
        "#, parse_dates=['release_date']\n",
        "data.head(5)\n",
        "display(data)\n",
        "\n"
      ],
      "execution_count": 218,
      "outputs": [
        {
          "output_type": "display_data",
          "data": {
            "text/html": [
              "<div>\n",
              "<style scoped>\n",
              "    .dataframe tbody tr th:only-of-type {\n",
              "        vertical-align: middle;\n",
              "    }\n",
              "\n",
              "    .dataframe tbody tr th {\n",
              "        vertical-align: top;\n",
              "    }\n",
              "\n",
              "    .dataframe thead th {\n",
              "        text-align: right;\n",
              "    }\n",
              "</style>\n",
              "<table border=\"1\" class=\"dataframe\">\n",
              "  <thead>\n",
              "    <tr style=\"text-align: right;\">\n",
              "      <th></th>\n",
              "      <th>imdb_id</th>\n",
              "      <th>popularity</th>\n",
              "      <th>budget</th>\n",
              "      <th>revenue</th>\n",
              "      <th>original_title</th>\n",
              "      <th>cast</th>\n",
              "      <th>director</th>\n",
              "      <th>tagline</th>\n",
              "      <th>overview</th>\n",
              "      <th>runtime</th>\n",
              "      <th>genres</th>\n",
              "      <th>production_companies</th>\n",
              "      <th>release_date</th>\n",
              "      <th>vote_count</th>\n",
              "      <th>vote_average</th>\n",
              "      <th>release_year</th>\n",
              "    </tr>\n",
              "  </thead>\n",
              "  <tbody>\n",
              "    <tr>\n",
              "      <th>0</th>\n",
              "      <td>tt0369610</td>\n",
              "      <td>32.985763</td>\n",
              "      <td>150000000</td>\n",
              "      <td>1513528810</td>\n",
              "      <td>Jurassic World</td>\n",
              "      <td>Chris Pratt|Bryce Dallas Howard|Irrfan Khan|Vi...</td>\n",
              "      <td>Colin Trevorrow</td>\n",
              "      <td>The park is open.</td>\n",
              "      <td>Twenty-two years after the events of Jurassic ...</td>\n",
              "      <td>124</td>\n",
              "      <td>Action|Adventure|Science Fiction|Thriller</td>\n",
              "      <td>Universal Studios|Amblin Entertainment|Legenda...</td>\n",
              "      <td>6/9/2015</td>\n",
              "      <td>5562</td>\n",
              "      <td>6.5</td>\n",
              "      <td>2015</td>\n",
              "    </tr>\n",
              "    <tr>\n",
              "      <th>1</th>\n",
              "      <td>tt1392190</td>\n",
              "      <td>28.419936</td>\n",
              "      <td>150000000</td>\n",
              "      <td>378436354</td>\n",
              "      <td>Mad Max: Fury Road</td>\n",
              "      <td>Tom Hardy|Charlize Theron|Hugh Keays-Byrne|Nic...</td>\n",
              "      <td>George Miller</td>\n",
              "      <td>What a Lovely Day.</td>\n",
              "      <td>An apocalyptic story set in the furthest reach...</td>\n",
              "      <td>120</td>\n",
              "      <td>Action|Adventure|Science Fiction|Thriller</td>\n",
              "      <td>Village Roadshow Pictures|Kennedy Miller Produ...</td>\n",
              "      <td>5/13/2015</td>\n",
              "      <td>6185</td>\n",
              "      <td>7.1</td>\n",
              "      <td>2015</td>\n",
              "    </tr>\n",
              "    <tr>\n",
              "      <th>2</th>\n",
              "      <td>tt2908446</td>\n",
              "      <td>13.112507</td>\n",
              "      <td>110000000</td>\n",
              "      <td>295238201</td>\n",
              "      <td>Insurgent</td>\n",
              "      <td>Shailene Woodley|Theo James|Kate Winslet|Ansel...</td>\n",
              "      <td>Robert Schwentke</td>\n",
              "      <td>One Choice Can Destroy You</td>\n",
              "      <td>Beatrice Prior must confront her inner demons ...</td>\n",
              "      <td>119</td>\n",
              "      <td>Adventure|Science Fiction|Thriller</td>\n",
              "      <td>Summit Entertainment|Mandeville Films|Red Wago...</td>\n",
              "      <td>3/18/2015</td>\n",
              "      <td>2480</td>\n",
              "      <td>6.3</td>\n",
              "      <td>2015</td>\n",
              "    </tr>\n",
              "    <tr>\n",
              "      <th>3</th>\n",
              "      <td>tt2488496</td>\n",
              "      <td>11.173104</td>\n",
              "      <td>200000000</td>\n",
              "      <td>2068178225</td>\n",
              "      <td>Star Wars: The Force Awakens</td>\n",
              "      <td>Harrison Ford|Mark Hamill|Carrie Fisher|Adam D...</td>\n",
              "      <td>J.J. Abrams</td>\n",
              "      <td>Every generation has a story.</td>\n",
              "      <td>Thirty years after defeating the Galactic Empi...</td>\n",
              "      <td>136</td>\n",
              "      <td>Action|Adventure|Science Fiction|Fantasy</td>\n",
              "      <td>Lucasfilm|Truenorth Productions|Bad Robot</td>\n",
              "      <td>12/15/2015</td>\n",
              "      <td>5292</td>\n",
              "      <td>7.5</td>\n",
              "      <td>2015</td>\n",
              "    </tr>\n",
              "    <tr>\n",
              "      <th>4</th>\n",
              "      <td>tt2820852</td>\n",
              "      <td>9.335014</td>\n",
              "      <td>190000000</td>\n",
              "      <td>1506249360</td>\n",
              "      <td>Furious 7</td>\n",
              "      <td>Vin Diesel|Paul Walker|Jason Statham|Michelle ...</td>\n",
              "      <td>James Wan</td>\n",
              "      <td>Vengeance Hits Home</td>\n",
              "      <td>Deckard Shaw seeks revenge against Dominic Tor...</td>\n",
              "      <td>137</td>\n",
              "      <td>Action|Crime|Thriller</td>\n",
              "      <td>Universal Pictures|Original Film|Media Rights ...</td>\n",
              "      <td>4/1/2015</td>\n",
              "      <td>2947</td>\n",
              "      <td>7.3</td>\n",
              "      <td>2015</td>\n",
              "    </tr>\n",
              "    <tr>\n",
              "      <th>...</th>\n",
              "      <td>...</td>\n",
              "      <td>...</td>\n",
              "      <td>...</td>\n",
              "      <td>...</td>\n",
              "      <td>...</td>\n",
              "      <td>...</td>\n",
              "      <td>...</td>\n",
              "      <td>...</td>\n",
              "      <td>...</td>\n",
              "      <td>...</td>\n",
              "      <td>...</td>\n",
              "      <td>...</td>\n",
              "      <td>...</td>\n",
              "      <td>...</td>\n",
              "      <td>...</td>\n",
              "      <td>...</td>\n",
              "    </tr>\n",
              "    <tr>\n",
              "      <th>1885</th>\n",
              "      <td>tt0120903</td>\n",
              "      <td>0.182246</td>\n",
              "      <td>75000000</td>\n",
              "      <td>157299717</td>\n",
              "      <td>X-Men</td>\n",
              "      <td>Patrick Stewart|Hugh Jackman|Ian McKellen|Hall...</td>\n",
              "      <td>Bryan Singer</td>\n",
              "      <td>Evolution Begins</td>\n",
              "      <td>Two mutants, Rogue and Wolverine, come to a pr...</td>\n",
              "      <td>104</td>\n",
              "      <td>Adventure|Action|Science Fiction</td>\n",
              "      <td>Twentieth Century Fox Film Corporation|Donners...</td>\n",
              "      <td>7/13/2000</td>\n",
              "      <td>2766</td>\n",
              "      <td>6.6</td>\n",
              "      <td>2000</td>\n",
              "    </tr>\n",
              "    <tr>\n",
              "      <th>1886</th>\n",
              "      <td>tt0192255</td>\n",
              "      <td>0.123920</td>\n",
              "      <td>22000000</td>\n",
              "      <td>13555988</td>\n",
              "      <td>The Little Vampire</td>\n",
              "      <td>Richard E. Grant|Jonathan Lipnicki|Jim Carter|...</td>\n",
              "      <td>Uli Edel</td>\n",
              "      <td>They're not just best friends, they're blood b...</td>\n",
              "      <td>Based on the popular books, the story tells of...</td>\n",
              "      <td>95</td>\n",
              "      <td>Horror|Family|Foreign</td>\n",
              "      <td>New Line Cinema</td>\n",
              "      <td>10/27/2000</td>\n",
              "      <td>42</td>\n",
              "      <td>6.4</td>\n",
              "      <td>2000</td>\n",
              "    </tr>\n",
              "    <tr>\n",
              "      <th>1887</th>\n",
              "      <td>tt0131704</td>\n",
              "      <td>0.104908</td>\n",
              "      <td>76000000</td>\n",
              "      <td>35134820</td>\n",
              "      <td>The Adventures of Rocky &amp; Bullwinkle</td>\n",
              "      <td>Rene Russo|Jason Alexander|Piper Perabo|Randy ...</td>\n",
              "      <td>Des McAnuff</td>\n",
              "      <td>This summer it's not the same old bull.</td>\n",
              "      <td>Rocky and Bullwinkle have been living off the ...</td>\n",
              "      <td>88</td>\n",
              "      <td>Adventure|Animation|Action|Comedy|Family</td>\n",
              "      <td>Universal Pictures|Capella International|KC Me...</td>\n",
              "      <td>6/30/2000</td>\n",
              "      <td>35</td>\n",
              "      <td>4.0</td>\n",
              "      <td>2000</td>\n",
              "    </tr>\n",
              "    <tr>\n",
              "      <th>1888</th>\n",
              "      <td>tt0162983</td>\n",
              "      <td>0.031018</td>\n",
              "      <td>40000000</td>\n",
              "      <td>36037909</td>\n",
              "      <td>Hanging Up</td>\n",
              "      <td>Meg Ryan|Diane Keaton|Lisa Kudrow|Walter Matth...</td>\n",
              "      <td>Diane Keaton</td>\n",
              "      <td>Every family has a few hang-ups.</td>\n",
              "      <td>A trio of sisters bond over their ambivalence ...</td>\n",
              "      <td>94</td>\n",
              "      <td>Comedy|Drama</td>\n",
              "      <td>Laurence Mark Productions|Columbia Pictures Co...</td>\n",
              "      <td>2/16/2000</td>\n",
              "      <td>21</td>\n",
              "      <td>5.2</td>\n",
              "      <td>2000</td>\n",
              "    </tr>\n",
              "    <tr>\n",
              "      <th>1889</th>\n",
              "      <td>tt0163676</td>\n",
              "      <td>0.015997</td>\n",
              "      <td>15000000</td>\n",
              "      <td>5217498</td>\n",
              "      <td>The In Crowd</td>\n",
              "      <td>Susan Ward|Lori Heuring|Matthew Settle|Nathan ...</td>\n",
              "      <td>Mary Lambert</td>\n",
              "      <td>What would you do to get in?</td>\n",
              "      <td>A mentally disturbed young woman takes a job a...</td>\n",
              "      <td>105</td>\n",
              "      <td>Thriller</td>\n",
              "      <td>Warner Bros. Pictures</td>\n",
              "      <td>7/19/2000</td>\n",
              "      <td>12</td>\n",
              "      <td>5.2</td>\n",
              "      <td>2000</td>\n",
              "    </tr>\n",
              "  </tbody>\n",
              "</table>\n",
              "<p>1890 rows × 16 columns</p>\n",
              "</div>"
            ],
            "text/plain": [
              "        imdb_id  popularity     budget  ...  vote_count vote_average release_year\n",
              "0     tt0369610   32.985763  150000000  ...        5562          6.5         2015\n",
              "1     tt1392190   28.419936  150000000  ...        6185          7.1         2015\n",
              "2     tt2908446   13.112507  110000000  ...        2480          6.3         2015\n",
              "3     tt2488496   11.173104  200000000  ...        5292          7.5         2015\n",
              "4     tt2820852    9.335014  190000000  ...        2947          7.3         2015\n",
              "...         ...         ...        ...  ...         ...          ...          ...\n",
              "1885  tt0120903    0.182246   75000000  ...        2766          6.6         2000\n",
              "1886  tt0192255    0.123920   22000000  ...          42          6.4         2000\n",
              "1887  tt0131704    0.104908   76000000  ...          35          4.0         2000\n",
              "1888  tt0162983    0.031018   40000000  ...          21          5.2         2000\n",
              "1889  tt0163676    0.015997   15000000  ...          12          5.2         2000\n",
              "\n",
              "[1890 rows x 16 columns]"
            ]
          },
          "metadata": {
            "tags": []
          }
        }
      ]
    },
    {
      "cell_type": "code",
      "metadata": {
        "trusted": true,
        "id": "SlEH8KWuD6fI",
        "colab_type": "code",
        "outputId": "7bda6436-c594-4387-cb9f-a7470911ebc8",
        "colab": {
          "base_uri": "https://localhost:8080/",
          "height": 34
        }
      },
      "source": [
        "len(data)"
      ],
      "execution_count": 0,
      "outputs": [
        {
          "output_type": "execute_result",
          "data": {
            "text/plain": [
              "1890"
            ]
          },
          "metadata": {
            "tags": []
          },
          "execution_count": 7
        }
      ]
    },
    {
      "cell_type": "markdown",
      "metadata": {
        "id": "cimRgvTsD6fM",
        "colab_type": "text"
      },
      "source": [
        "# Предобработка датасета"
      ]
    },
    {
      "cell_type": "code",
      "metadata": {
        "trusted": true,
        "id": "B7fqmPwDD6fN",
        "colab_type": "code",
        "colab": {}
      },
      "source": [
        "answer_ls = [] # создадим список с ответами. сюда будем добавлять ответы по мере прохождения теста\n",
        "# сюда можем вписать создание новых колонок в датасете\n",
        "data['profit'] = data['revenue'] - data['budget']"
      ],
      "execution_count": 0,
      "outputs": []
    },
    {
      "cell_type": "markdown",
      "metadata": {
        "id": "LhHdt-8CD6fR",
        "colab_type": "text"
      },
      "source": [
        "# 1. У какого фильма из списка самый большой бюджет?\n",
        "Варианты ответов:\n",
        "1. The Dark Knight Rises (tt1345836)\n",
        "2. Spider-Man 3 (tt0413300)\n",
        "3. Avengers: Age of Ultron (tt2395427)\n",
        "4. The Warrior's Way\t(tt1032751)\n",
        "5. Pirates of the Caribbean: On Stranger Tides (tt1298650)"
      ]
    },
    {
      "cell_type": "code",
      "metadata": {
        "trusted": true,
        "id": "5iefkkt4D6fS",
        "colab_type": "code",
        "colab": {}
      },
      "source": [
        "data[data.budget==data.budget.max()]\n",
        "answer_ls.append(4)"
      ],
      "execution_count": 0,
      "outputs": []
    },
    {
      "cell_type": "markdown",
      "metadata": {
        "id": "ZOn22f6pD6fW",
        "colab_type": "text"
      },
      "source": [
        "# 2. Какой из фильмов самый длительный (в минутах)\n",
        "1. The Lord of the Rings: The Return of the King\t(tt0167260)\n",
        "2. Gods and Generals\t(tt0279111)\n",
        "3. King Kong\t(tt0360717)\n",
        "4. Pearl Harbor\t(tt0213149)\n",
        "5. Alexander\t(tt0346491)"
      ]
    },
    {
      "cell_type": "code",
      "metadata": {
        "trusted": true,
        "id": "L2bRheVAD6fZ",
        "colab_type": "code",
        "outputId": "2526ab0f-6886-40ba-c5ae-0e08730fbd8a",
        "colab": {
          "base_uri": "https://localhost:8080/",
          "height": 202
        }
      },
      "source": [
        "answer_ls.append(2)\n",
        "data[data.runtime==data.runtime.max()]"
      ],
      "execution_count": 326,
      "outputs": [
        {
          "output_type": "execute_result",
          "data": {
            "text/html": [
              "<div>\n",
              "<style scoped>\n",
              "    .dataframe tbody tr th:only-of-type {\n",
              "        vertical-align: middle;\n",
              "    }\n",
              "\n",
              "    .dataframe tbody tr th {\n",
              "        vertical-align: top;\n",
              "    }\n",
              "\n",
              "    .dataframe thead th {\n",
              "        text-align: right;\n",
              "    }\n",
              "</style>\n",
              "<table border=\"1\" class=\"dataframe\">\n",
              "  <thead>\n",
              "    <tr style=\"text-align: right;\">\n",
              "      <th></th>\n",
              "      <th>imdb_id</th>\n",
              "      <th>popularity</th>\n",
              "      <th>budget</th>\n",
              "      <th>revenue</th>\n",
              "      <th>original_title</th>\n",
              "      <th>cast</th>\n",
              "      <th>director</th>\n",
              "      <th>tagline</th>\n",
              "      <th>overview</th>\n",
              "      <th>runtime</th>\n",
              "      <th>genres</th>\n",
              "      <th>production_companies</th>\n",
              "      <th>release_date</th>\n",
              "      <th>vote_count</th>\n",
              "      <th>vote_average</th>\n",
              "      <th>release_year</th>\n",
              "      <th>month</th>\n",
              "      <th>profit</th>\n",
              "      <th>title_lenght</th>\n",
              "      <th>title_length</th>\n",
              "      <th>title_length_word</th>\n",
              "    </tr>\n",
              "  </thead>\n",
              "  <tbody>\n",
              "    <tr>\n",
              "      <th>1158</th>\n",
              "      <td>tt0279111</td>\n",
              "      <td>0.469518</td>\n",
              "      <td>56000000</td>\n",
              "      <td>12923936</td>\n",
              "      <td>Gods and Generals</td>\n",
              "      <td>Stephen Lang|Jeff Daniels|Robert Duvall|Kevin ...</td>\n",
              "      <td>Ronald F. Maxwell</td>\n",
              "      <td>The nations heart was touched by...</td>\n",
              "      <td>The film centers mostly around the personal an...</td>\n",
              "      <td>214</td>\n",
              "      <td>Drama|History|War</td>\n",
              "      <td>Turner Pictures|Antietam Filmworks</td>\n",
              "      <td>2/21/2003</td>\n",
              "      <td>23</td>\n",
              "      <td>5.8</td>\n",
              "      <td>2003</td>\n",
              "      <td>2</td>\n",
              "      <td>-43076064</td>\n",
              "      <td>17</td>\n",
              "      <td>17</td>\n",
              "      <td>3</td>\n",
              "    </tr>\n",
              "  </tbody>\n",
              "</table>\n",
              "</div>"
            ],
            "text/plain": [
              "        imdb_id  popularity  ...  title_length  title_length_word\n",
              "1158  tt0279111    0.469518  ...            17                  3\n",
              "\n",
              "[1 rows x 21 columns]"
            ]
          },
          "metadata": {
            "tags": []
          },
          "execution_count": 326
        }
      ]
    },
    {
      "cell_type": "markdown",
      "metadata": {
        "id": "pQFS0I9mD6fc",
        "colab_type": "text"
      },
      "source": [
        "# 3. Какой из фильмов самый короткий (в минутах)\n",
        "Варианты ответов:\n",
        "\n",
        "1. Home on the Range\ttt0299172\n",
        "2. The Jungle Book 2\ttt0283426\n",
        "3. Winnie the Pooh\ttt1449283\n",
        "4. Corpse Bride\ttt0121164\n",
        "5. Hoodwinked!\ttt0443536"
      ]
    },
    {
      "cell_type": "code",
      "metadata": {
        "trusted": true,
        "id": "IXzzqIqbD6fd",
        "colab_type": "code",
        "outputId": "c05e5955-dbf5-4fbb-fd65-67cda32ea555",
        "colab": {
          "base_uri": "https://localhost:8080/",
          "height": 202
        }
      },
      "source": [
        "answer_ls.append(3)\n",
        "data[data.runtime==data.runtime.min()]"
      ],
      "execution_count": 327,
      "outputs": [
        {
          "output_type": "execute_result",
          "data": {
            "text/html": [
              "<div>\n",
              "<style scoped>\n",
              "    .dataframe tbody tr th:only-of-type {\n",
              "        vertical-align: middle;\n",
              "    }\n",
              "\n",
              "    .dataframe tbody tr th {\n",
              "        vertical-align: top;\n",
              "    }\n",
              "\n",
              "    .dataframe thead th {\n",
              "        text-align: right;\n",
              "    }\n",
              "</style>\n",
              "<table border=\"1\" class=\"dataframe\">\n",
              "  <thead>\n",
              "    <tr style=\"text-align: right;\">\n",
              "      <th></th>\n",
              "      <th>imdb_id</th>\n",
              "      <th>popularity</th>\n",
              "      <th>budget</th>\n",
              "      <th>revenue</th>\n",
              "      <th>original_title</th>\n",
              "      <th>cast</th>\n",
              "      <th>director</th>\n",
              "      <th>tagline</th>\n",
              "      <th>overview</th>\n",
              "      <th>runtime</th>\n",
              "      <th>genres</th>\n",
              "      <th>production_companies</th>\n",
              "      <th>release_date</th>\n",
              "      <th>vote_count</th>\n",
              "      <th>vote_average</th>\n",
              "      <th>release_year</th>\n",
              "      <th>month</th>\n",
              "      <th>profit</th>\n",
              "      <th>title_lenght</th>\n",
              "      <th>title_length</th>\n",
              "      <th>title_length_word</th>\n",
              "    </tr>\n",
              "  </thead>\n",
              "  <tbody>\n",
              "    <tr>\n",
              "      <th>769</th>\n",
              "      <td>tt1449283</td>\n",
              "      <td>1.425344</td>\n",
              "      <td>30000000</td>\n",
              "      <td>14460000</td>\n",
              "      <td>Winnie the Pooh</td>\n",
              "      <td>Jim Cummings|Travis Oates|Jim Cummings|Bud Luc...</td>\n",
              "      <td>Stephen Anderson|Don Hall</td>\n",
              "      <td>Oh Pooh.</td>\n",
              "      <td>During an ordinary day in Hundred Acre Wood, W...</td>\n",
              "      <td>63</td>\n",
              "      <td>Animation|Family</td>\n",
              "      <td>Walt Disney Pictures|Walt Disney Animation Stu...</td>\n",
              "      <td>4/13/2011</td>\n",
              "      <td>174</td>\n",
              "      <td>6.8</td>\n",
              "      <td>2011</td>\n",
              "      <td>4</td>\n",
              "      <td>-15540000</td>\n",
              "      <td>15</td>\n",
              "      <td>15</td>\n",
              "      <td>3</td>\n",
              "    </tr>\n",
              "  </tbody>\n",
              "</table>\n",
              "</div>"
            ],
            "text/plain": [
              "       imdb_id  popularity  ...  title_length  title_length_word\n",
              "769  tt1449283    1.425344  ...            15                  3\n",
              "\n",
              "[1 rows x 21 columns]"
            ]
          },
          "metadata": {
            "tags": []
          },
          "execution_count": 327
        }
      ]
    },
    {
      "cell_type": "markdown",
      "metadata": {
        "id": "2hHG_qZYD6fg",
        "colab_type": "text"
      },
      "source": [
        "# 4. Средняя длительность фильма?\n",
        "\n",
        "Варианты ответов:\n",
        "1. 115\n",
        "2. 110\n",
        "3. 105\n",
        "4. 120\n",
        "5. 100\n"
      ]
    },
    {
      "cell_type": "code",
      "metadata": {
        "trusted": true,
        "id": "v5BONbtmD6fh",
        "colab_type": "code",
        "outputId": "985fe746-d32e-4da2-aa1e-3959b9fdddf8",
        "colab": {
          "base_uri": "https://localhost:8080/",
          "height": 34
        }
      },
      "source": [
        "answer_ls.append(2)\n",
        "data.runtime.mean()"
      ],
      "execution_count": 328,
      "outputs": [
        {
          "output_type": "execute_result",
          "data": {
            "text/plain": [
              "109.65343915343915"
            ]
          },
          "metadata": {
            "tags": []
          },
          "execution_count": 328
        }
      ]
    },
    {
      "cell_type": "markdown",
      "metadata": {
        "id": "ZGe2dqM5D6fj",
        "colab_type": "text"
      },
      "source": [
        "# 5. Средняя длительность фильма по медиане?\n",
        "Варианты ответов:\n",
        "1. 106\n",
        "2. 112\n",
        "3. 101\n",
        "4. 120\n",
        "5. 115\n",
        "\n",
        "\n"
      ]
    },
    {
      "cell_type": "code",
      "metadata": {
        "trusted": true,
        "id": "gqMFZNIiD6fk",
        "colab_type": "code",
        "outputId": "84ee25d7-1839-4fff-dde8-172371291a9f",
        "colab": {
          "base_uri": "https://localhost:8080/",
          "height": 34
        }
      },
      "source": [
        "answer_ls.append(1)\n",
        "data.runtime.median()"
      ],
      "execution_count": 329,
      "outputs": [
        {
          "output_type": "execute_result",
          "data": {
            "text/plain": [
              "106.5"
            ]
          },
          "metadata": {
            "tags": []
          },
          "execution_count": 329
        }
      ]
    },
    {
      "cell_type": "markdown",
      "metadata": {
        "id": "nATnXBdOD6fm",
        "colab_type": "text"
      },
      "source": [
        "# 6. Какой самый прибыльный фильм?\n",
        "Варианты ответов:\n",
        "1. The Avengers\ttt0848228\n",
        "2. Minions\ttt2293640\n",
        "3. Star Wars: The Force Awakens\ttt2488496\n",
        "4. Furious 7\ttt2820852\n",
        "5. Avatar\ttt0499549"
      ]
    },
    {
      "cell_type": "code",
      "metadata": {
        "trusted": true,
        "id": "tet3o-2ID6fn",
        "colab_type": "code",
        "outputId": "ddd169ff-aaa3-4626-b2a8-e74fc5533c39",
        "colab": {
          "base_uri": "https://localhost:8080/",
          "height": 185
        }
      },
      "source": [
        "answer_ls.append(5)\n",
        "display(data[data['profit'] == data.profit.max()])"
      ],
      "execution_count": 330,
      "outputs": [
        {
          "output_type": "display_data",
          "data": {
            "text/html": [
              "<div>\n",
              "<style scoped>\n",
              "    .dataframe tbody tr th:only-of-type {\n",
              "        vertical-align: middle;\n",
              "    }\n",
              "\n",
              "    .dataframe tbody tr th {\n",
              "        vertical-align: top;\n",
              "    }\n",
              "\n",
              "    .dataframe thead th {\n",
              "        text-align: right;\n",
              "    }\n",
              "</style>\n",
              "<table border=\"1\" class=\"dataframe\">\n",
              "  <thead>\n",
              "    <tr style=\"text-align: right;\">\n",
              "      <th></th>\n",
              "      <th>imdb_id</th>\n",
              "      <th>popularity</th>\n",
              "      <th>budget</th>\n",
              "      <th>revenue</th>\n",
              "      <th>original_title</th>\n",
              "      <th>cast</th>\n",
              "      <th>director</th>\n",
              "      <th>tagline</th>\n",
              "      <th>overview</th>\n",
              "      <th>runtime</th>\n",
              "      <th>genres</th>\n",
              "      <th>production_companies</th>\n",
              "      <th>release_date</th>\n",
              "      <th>vote_count</th>\n",
              "      <th>vote_average</th>\n",
              "      <th>release_year</th>\n",
              "      <th>month</th>\n",
              "      <th>profit</th>\n",
              "      <th>title_lenght</th>\n",
              "      <th>title_length</th>\n",
              "      <th>title_length_word</th>\n",
              "    </tr>\n",
              "  </thead>\n",
              "  <tbody>\n",
              "    <tr>\n",
              "      <th>239</th>\n",
              "      <td>tt0499549</td>\n",
              "      <td>9.432768</td>\n",
              "      <td>237000000</td>\n",
              "      <td>2781505847</td>\n",
              "      <td>Avatar</td>\n",
              "      <td>Sam Worthington|Zoe Saldana|Sigourney Weaver|S...</td>\n",
              "      <td>James Cameron</td>\n",
              "      <td>Enter the World of Pandora.</td>\n",
              "      <td>In the 22nd century, a paraplegic Marine is di...</td>\n",
              "      <td>162</td>\n",
              "      <td>Action|Adventure|Fantasy|Science Fiction</td>\n",
              "      <td>Ingenious Film Partners|Twentieth Century Fox ...</td>\n",
              "      <td>12/10/2009</td>\n",
              "      <td>8458</td>\n",
              "      <td>7.1</td>\n",
              "      <td>2009</td>\n",
              "      <td>12</td>\n",
              "      <td>2544505847</td>\n",
              "      <td>6</td>\n",
              "      <td>6</td>\n",
              "      <td>1</td>\n",
              "    </tr>\n",
              "  </tbody>\n",
              "</table>\n",
              "</div>"
            ],
            "text/plain": [
              "       imdb_id  popularity  ...  title_length  title_length_word\n",
              "239  tt0499549    9.432768  ...             6                  1\n",
              "\n",
              "[1 rows x 21 columns]"
            ]
          },
          "metadata": {
            "tags": []
          }
        }
      ]
    },
    {
      "cell_type": "markdown",
      "metadata": {
        "id": "h0AUtoDpD6fp",
        "colab_type": "text"
      },
      "source": [
        "# 7. Какой фильм самый убыточный?\n",
        "Варианты ответов:\n",
        "1. Supernova tt0134983\n",
        "2. The Warrior's Way tt1032751\n",
        "3. Flushed Away\ttt0424095\n",
        "4. The Adventures of Pluto Nash\ttt0180052\n",
        "5. The Lone Ranger\ttt1210819"
      ]
    },
    {
      "cell_type": "code",
      "metadata": {
        "trusted": true,
        "id": "If3c6v5oD6fq",
        "colab_type": "code",
        "outputId": "a205dbaf-1e79-4b8c-8c46-059b3e6e9711",
        "colab": {
          "base_uri": "https://localhost:8080/",
          "height": 202
        }
      },
      "source": [
        "answer_ls.append(2)\n",
        "display(data[data['profit'] == data.profit.min()])"
      ],
      "execution_count": 331,
      "outputs": [
        {
          "output_type": "display_data",
          "data": {
            "text/html": [
              "<div>\n",
              "<style scoped>\n",
              "    .dataframe tbody tr th:only-of-type {\n",
              "        vertical-align: middle;\n",
              "    }\n",
              "\n",
              "    .dataframe tbody tr th {\n",
              "        vertical-align: top;\n",
              "    }\n",
              "\n",
              "    .dataframe thead th {\n",
              "        text-align: right;\n",
              "    }\n",
              "</style>\n",
              "<table border=\"1\" class=\"dataframe\">\n",
              "  <thead>\n",
              "    <tr style=\"text-align: right;\">\n",
              "      <th></th>\n",
              "      <th>imdb_id</th>\n",
              "      <th>popularity</th>\n",
              "      <th>budget</th>\n",
              "      <th>revenue</th>\n",
              "      <th>original_title</th>\n",
              "      <th>cast</th>\n",
              "      <th>director</th>\n",
              "      <th>tagline</th>\n",
              "      <th>overview</th>\n",
              "      <th>runtime</th>\n",
              "      <th>genres</th>\n",
              "      <th>production_companies</th>\n",
              "      <th>release_date</th>\n",
              "      <th>vote_count</th>\n",
              "      <th>vote_average</th>\n",
              "      <th>release_year</th>\n",
              "      <th>month</th>\n",
              "      <th>profit</th>\n",
              "      <th>title_lenght</th>\n",
              "      <th>title_length</th>\n",
              "      <th>title_length_word</th>\n",
              "    </tr>\n",
              "  </thead>\n",
              "  <tbody>\n",
              "    <tr>\n",
              "      <th>491</th>\n",
              "      <td>tt1032751</td>\n",
              "      <td>0.25054</td>\n",
              "      <td>425000000</td>\n",
              "      <td>11087569</td>\n",
              "      <td>The Warrior's Way</td>\n",
              "      <td>Kate Bosworth|Jang Dong-gun|Geoffrey Rush|Dann...</td>\n",
              "      <td>Sngmoo Lee</td>\n",
              "      <td>Assassin. Hero. Legend.</td>\n",
              "      <td>An Asian assassin (Dong-gun Jang) is forced to...</td>\n",
              "      <td>100</td>\n",
              "      <td>Adventure|Fantasy|Action|Western|Thriller</td>\n",
              "      <td>Boram Entertainment Inc.</td>\n",
              "      <td>12/2/2010</td>\n",
              "      <td>74</td>\n",
              "      <td>6.4</td>\n",
              "      <td>2010</td>\n",
              "      <td>12</td>\n",
              "      <td>-413912431</td>\n",
              "      <td>17</td>\n",
              "      <td>17</td>\n",
              "      <td>3</td>\n",
              "    </tr>\n",
              "  </tbody>\n",
              "</table>\n",
              "</div>"
            ],
            "text/plain": [
              "       imdb_id  popularity  ...  title_length  title_length_word\n",
              "491  tt1032751     0.25054  ...            17                  3\n",
              "\n",
              "[1 rows x 21 columns]"
            ]
          },
          "metadata": {
            "tags": []
          }
        }
      ]
    },
    {
      "cell_type": "markdown",
      "metadata": {
        "id": "QdqtWEmQD6fs",
        "colab_type": "text"
      },
      "source": [
        "# 8. Сколько всего фильмов в прибыли?\n",
        "Варианты ответов:\n",
        "1. 1478\n",
        "2. 1520\n",
        "3. 1241\n",
        "4. 1135\n",
        "5. 1398\n"
      ]
    },
    {
      "cell_type": "code",
      "metadata": {
        "trusted": true,
        "id": "d1akbAiGD6ft",
        "colab_type": "code",
        "outputId": "4b044f83-3a93-4607-a229-6d76423bbde9",
        "colab": {
          "base_uri": "https://localhost:8080/",
          "height": 34
        }
      },
      "source": [
        "answer_ls.append(1)\n",
        "display(len(data[data.profit>0]))\n"
      ],
      "execution_count": 332,
      "outputs": [
        {
          "output_type": "display_data",
          "data": {
            "text/plain": [
              "1478"
            ]
          },
          "metadata": {
            "tags": []
          }
        }
      ]
    },
    {
      "cell_type": "markdown",
      "metadata": {
        "id": "OIeV415SD6fv",
        "colab_type": "text"
      },
      "source": [
        "# 9. Самый прибыльный фильм в 2008 году?\n",
        "Варианты ответов:\n",
        "1. Madagascar: Escape 2 Africa\ttt0479952\n",
        "2. Iron Man\ttt0371746\n",
        "3. Kung Fu Panda\ttt0441773\n",
        "4. The Dark Knight\ttt0468569\n",
        "5. Mamma Mia!\ttt0795421"
      ]
    },
    {
      "cell_type": "code",
      "metadata": {
        "trusted": true,
        "id": "qe__ES1gD6fw",
        "colab_type": "code",
        "outputId": "2f9e49f7-3b67-4b45-fa62-52d1f8fde0b8",
        "colab": {
          "base_uri": "https://localhost:8080/",
          "height": 185
        }
      },
      "source": [
        "answer_ls.append(4)\n",
        "data[(data.release_year==2008) & (data.profit == data[data.release_year==2008].profit.max())]\n",
        "\n"
      ],
      "execution_count": 333,
      "outputs": [
        {
          "output_type": "execute_result",
          "data": {
            "text/html": [
              "<div>\n",
              "<style scoped>\n",
              "    .dataframe tbody tr th:only-of-type {\n",
              "        vertical-align: middle;\n",
              "    }\n",
              "\n",
              "    .dataframe tbody tr th {\n",
              "        vertical-align: top;\n",
              "    }\n",
              "\n",
              "    .dataframe thead th {\n",
              "        text-align: right;\n",
              "    }\n",
              "</style>\n",
              "<table border=\"1\" class=\"dataframe\">\n",
              "  <thead>\n",
              "    <tr style=\"text-align: right;\">\n",
              "      <th></th>\n",
              "      <th>imdb_id</th>\n",
              "      <th>popularity</th>\n",
              "      <th>budget</th>\n",
              "      <th>revenue</th>\n",
              "      <th>original_title</th>\n",
              "      <th>cast</th>\n",
              "      <th>director</th>\n",
              "      <th>tagline</th>\n",
              "      <th>overview</th>\n",
              "      <th>runtime</th>\n",
              "      <th>genres</th>\n",
              "      <th>production_companies</th>\n",
              "      <th>release_date</th>\n",
              "      <th>vote_count</th>\n",
              "      <th>vote_average</th>\n",
              "      <th>release_year</th>\n",
              "      <th>month</th>\n",
              "      <th>profit</th>\n",
              "      <th>title_lenght</th>\n",
              "      <th>title_length</th>\n",
              "      <th>title_length_word</th>\n",
              "    </tr>\n",
              "  </thead>\n",
              "  <tbody>\n",
              "    <tr>\n",
              "      <th>600</th>\n",
              "      <td>tt0468569</td>\n",
              "      <td>8.466668</td>\n",
              "      <td>185000000</td>\n",
              "      <td>1001921825</td>\n",
              "      <td>The Dark Knight</td>\n",
              "      <td>Christian Bale|Michael Caine|Heath Ledger|Aaro...</td>\n",
              "      <td>Christopher Nolan</td>\n",
              "      <td>Why So Serious?</td>\n",
              "      <td>Batman raises the stakes in his war on crime. ...</td>\n",
              "      <td>152</td>\n",
              "      <td>Drama|Action|Crime|Thriller</td>\n",
              "      <td>DC Comics|Legendary Pictures|Warner Bros.|Syncopy</td>\n",
              "      <td>7/16/2008</td>\n",
              "      <td>8432</td>\n",
              "      <td>8.1</td>\n",
              "      <td>2008</td>\n",
              "      <td>7</td>\n",
              "      <td>816921825</td>\n",
              "      <td>15</td>\n",
              "      <td>15</td>\n",
              "      <td>3</td>\n",
              "    </tr>\n",
              "  </tbody>\n",
              "</table>\n",
              "</div>"
            ],
            "text/plain": [
              "       imdb_id  popularity  ...  title_length  title_length_word\n",
              "600  tt0468569    8.466668  ...            15                  3\n",
              "\n",
              "[1 rows x 21 columns]"
            ]
          },
          "metadata": {
            "tags": []
          },
          "execution_count": 333
        }
      ]
    },
    {
      "cell_type": "markdown",
      "metadata": {
        "id": "ul13dYSoD6fy",
        "colab_type": "text"
      },
      "source": [
        "# 10. Самый убыточный фильм за период с 2012 по 2014 (включительно)?\n",
        "Варианты ответов:\n",
        "1. Winter's Tale\ttt1837709\n",
        "2. Stolen\ttt1656186\n",
        "3. Broken City\ttt1235522\n",
        "4. Upside Down\ttt1374992\n",
        "5. The Lone Ranger\ttt1210819\n"
      ]
    },
    {
      "cell_type": "code",
      "metadata": {
        "trusted": true,
        "id": "nzptJtD4D6fz",
        "colab_type": "code",
        "outputId": "f72981fc-e90f-4714-8e7c-6291462eb444",
        "colab": {
          "base_uri": "https://localhost:8080/",
          "height": 202
        }
      },
      "source": [
        "answer_ls.append(5)\n",
        "data[(data.release_year>2011) & (data.release_year<2015)&  (data.profit == data[(data.release_year>2011) & (data.release_year<2015)].profit.min())]\n"
      ],
      "execution_count": 335,
      "outputs": [
        {
          "output_type": "execute_result",
          "data": {
            "text/html": [
              "<div>\n",
              "<style scoped>\n",
              "    .dataframe tbody tr th:only-of-type {\n",
              "        vertical-align: middle;\n",
              "    }\n",
              "\n",
              "    .dataframe tbody tr th {\n",
              "        vertical-align: top;\n",
              "    }\n",
              "\n",
              "    .dataframe thead th {\n",
              "        text-align: right;\n",
              "    }\n",
              "</style>\n",
              "<table border=\"1\" class=\"dataframe\">\n",
              "  <thead>\n",
              "    <tr style=\"text-align: right;\">\n",
              "      <th></th>\n",
              "      <th>imdb_id</th>\n",
              "      <th>popularity</th>\n",
              "      <th>budget</th>\n",
              "      <th>revenue</th>\n",
              "      <th>original_title</th>\n",
              "      <th>cast</th>\n",
              "      <th>director</th>\n",
              "      <th>tagline</th>\n",
              "      <th>overview</th>\n",
              "      <th>runtime</th>\n",
              "      <th>genres</th>\n",
              "      <th>production_companies</th>\n",
              "      <th>release_date</th>\n",
              "      <th>vote_count</th>\n",
              "      <th>vote_average</th>\n",
              "      <th>release_year</th>\n",
              "      <th>month</th>\n",
              "      <th>profit</th>\n",
              "      <th>title_lenght</th>\n",
              "      <th>title_length</th>\n",
              "      <th>title_length_word</th>\n",
              "    </tr>\n",
              "  </thead>\n",
              "  <tbody>\n",
              "    <tr>\n",
              "      <th>1246</th>\n",
              "      <td>tt1210819</td>\n",
              "      <td>1.21451</td>\n",
              "      <td>255000000</td>\n",
              "      <td>89289910</td>\n",
              "      <td>The Lone Ranger</td>\n",
              "      <td>Johnny Depp|Armie Hammer|William Fichtner|Hele...</td>\n",
              "      <td>Gore Verbinski</td>\n",
              "      <td>Never Take Off the Mask</td>\n",
              "      <td>The Texas Rangers chase down a gang of outlaws...</td>\n",
              "      <td>149</td>\n",
              "      <td>Action|Adventure|Western</td>\n",
              "      <td>Walt Disney Pictures|Jerry Bruckheimer Films|I...</td>\n",
              "      <td>7/3/2013</td>\n",
              "      <td>1607</td>\n",
              "      <td>6.0</td>\n",
              "      <td>2013</td>\n",
              "      <td>7</td>\n",
              "      <td>-165710090</td>\n",
              "      <td>15</td>\n",
              "      <td>15</td>\n",
              "      <td>3</td>\n",
              "    </tr>\n",
              "  </tbody>\n",
              "</table>\n",
              "</div>"
            ],
            "text/plain": [
              "        imdb_id  popularity  ...  title_length  title_length_word\n",
              "1246  tt1210819     1.21451  ...            15                  3\n",
              "\n",
              "[1 rows x 21 columns]"
            ]
          },
          "metadata": {
            "tags": []
          },
          "execution_count": 335
        }
      ]
    },
    {
      "cell_type": "markdown",
      "metadata": {
        "id": "ZYfys3lrD6f1",
        "colab_type": "text"
      },
      "source": [
        "# 11. Какого жанра фильмов больше всего?\n",
        "Варианты ответов:\n",
        "1. Action\n",
        "2. Adventure\n",
        "3. Drama\n",
        "4. Comedy\n",
        "5. Thriller"
      ]
    },
    {
      "cell_type": "code",
      "metadata": {
        "trusted": true,
        "id": "mRiEVnHbD6f2",
        "colab_type": "code",
        "outputId": "527fe727-ffdd-42b8-d382-a6b8d2763e88",
        "colab": {
          "base_uri": "https://localhost:8080/",
          "height": 51
        }
      },
      "source": [
        "answer_ls.append(3)\n",
        "data.genres.str.split('|', expand=True).stack().value_counts().head(1)\n"
      ],
      "execution_count": 338,
      "outputs": [
        {
          "output_type": "execute_result",
          "data": {
            "text/plain": [
              "Drama    782\n",
              "dtype: int64"
            ]
          },
          "metadata": {
            "tags": []
          },
          "execution_count": 338
        }
      ]
    },
    {
      "cell_type": "markdown",
      "metadata": {
        "id": "UFfrtKZQD6f4",
        "colab_type": "text"
      },
      "source": [
        "# 12. Какого жанра среди прибыльных фильмов больше всего?\n",
        "Варианты ответов:\n",
        "1. Drama\n",
        "2. Comedy\n",
        "3. Action\n",
        "4. Thriller\n",
        "5. Adventure"
      ]
    },
    {
      "cell_type": "code",
      "metadata": {
        "trusted": true,
        "id": "7BoBQEhPD6f5",
        "colab_type": "code",
        "outputId": "fdc91e2b-dc95-4c56-a8d1-c143fc4332a9",
        "colab": {
          "base_uri": "https://localhost:8080/",
          "height": 51
        }
      },
      "source": [
        "answer_ls.append(1)\n",
        "data[data.profit>0].genres.str.split('|', expand=True).stack().value_counts().head(1)"
      ],
      "execution_count": 339,
      "outputs": [
        {
          "output_type": "execute_result",
          "data": {
            "text/plain": [
              "Drama    560\n",
              "dtype: int64"
            ]
          },
          "metadata": {
            "tags": []
          },
          "execution_count": 339
        }
      ]
    },
    {
      "cell_type": "markdown",
      "metadata": {
        "id": "Wiq6aq9bD6f7",
        "colab_type": "text"
      },
      "source": [
        "# 13. Кто из режиссеров снял больше всего фильмов?\n",
        "Варианты ответов:\n",
        "1. Steven Spielberg\n",
        "2. Ridley Scott \n",
        "3. Steven Soderbergh\n",
        "4. Christopher Nolan\n",
        "5. Clint Eastwood"
      ]
    },
    {
      "cell_type": "code",
      "metadata": {
        "trusted": true,
        "id": "8RSKewC0D6f8",
        "colab_type": "code",
        "outputId": "1808f29e-6c43-4b89-d08f-960b5302ab3a",
        "colab": {
          "base_uri": "https://localhost:8080/",
          "height": 51
        }
      },
      "source": [
        "answer_ls.append(3)\n",
        "data['director'].value_counts().head(1)\n"
      ],
      "execution_count": 340,
      "outputs": [
        {
          "output_type": "execute_result",
          "data": {
            "text/plain": [
              "Steven Soderbergh    13\n",
              "Name: director, dtype: int64"
            ]
          },
          "metadata": {
            "tags": []
          },
          "execution_count": 340
        }
      ]
    },
    {
      "cell_type": "markdown",
      "metadata": {
        "id": "Hh04L71qD6f-",
        "colab_type": "text"
      },
      "source": [
        "# 14. Кто из режиссеров снял больше всего Прибыльных фильмов?\n",
        "Варианты ответов:\n",
        "1. Steven Soderbergh\n",
        "2. Clint Eastwood\n",
        "3. Steven Spielberg\n",
        "4. Ridley Scott\n",
        "5. Christopher Nolan"
      ]
    },
    {
      "cell_type": "code",
      "metadata": {
        "trusted": true,
        "id": "zf0ceV_qD6f-",
        "colab_type": "code",
        "outputId": "c66daf0b-d4bf-4c31-903b-71bc617c7448",
        "colab": {
          "base_uri": "https://localhost:8080/",
          "height": 51
        }
      },
      "source": [
        "answer_ls.append(4)\n",
        "data[data.profit>0]['director'].value_counts().head(1)"
      ],
      "execution_count": 341,
      "outputs": [
        {
          "output_type": "execute_result",
          "data": {
            "text/plain": [
              "Ridley Scott    12\n",
              "Name: director, dtype: int64"
            ]
          },
          "metadata": {
            "tags": []
          },
          "execution_count": 341
        }
      ]
    },
    {
      "cell_type": "markdown",
      "metadata": {
        "id": "cQ3_ev9mD6gB",
        "colab_type": "text"
      },
      "source": [
        "# 15. Кто из режиссеров принес больше всего прибыли?\n",
        "Варианты ответов:\n",
        "1. Steven Spielberg\n",
        "2. Christopher Nolan\n",
        "3. David Yates\n",
        "4. James Cameron\n",
        "5. Peter Jackson\n"
      ]
    },
    {
      "cell_type": "code",
      "metadata": {
        "trusted": true,
        "id": "q09d-r_jD6gB",
        "colab_type": "code",
        "outputId": "f08b97c2-4845-4710-9071-91056a6ab3e0",
        "colab": {
          "base_uri": "https://localhost:8080/",
          "height": 238
        }
      },
      "source": [
        "answer_ls.append(5)\n",
        "data.groupby(['director'])['profit'].sum().sort_values()"
      ],
      "execution_count": 342,
      "outputs": [
        {
          "output_type": "execute_result",
          "data": {
            "text/plain": [
              "director\n",
              "Sngmoo Lee               -413912431\n",
              "James L. Brooks           -96289726\n",
              "Ron Underwood             -92896027\n",
              "Peter Hyams               -86956545\n",
              "David Bowers|Sam Fell     -84540684\n",
              "                            ...    \n",
              "Michael Bay              2760938960\n",
              "J.J. Abrams              2839169916\n",
              "Christopher Nolan        3162548502\n",
              "David Yates              3379295625\n",
              "Peter Jackson            5202593685\n",
              "Name: profit, Length: 958, dtype: int64"
            ]
          },
          "metadata": {
            "tags": []
          },
          "execution_count": 342
        }
      ]
    },
    {
      "cell_type": "markdown",
      "metadata": {
        "id": "plOcLRUqD6gD",
        "colab_type": "text"
      },
      "source": [
        "# 16. Какой актер принес больше всего прибыли?\n",
        "Варианты ответов:\n",
        "1. Emma Watson\n",
        "2. Johnny Depp\n",
        "3. Michelle Rodriguez\n",
        "4. Orlando Bloom\n",
        "5. Rupert Grint"
      ]
    },
    {
      "cell_type": "code",
      "metadata": {
        "trusted": true,
        "id": "RqUSm82nD6gE",
        "colab_type": "code",
        "outputId": "4c50e817-a28c-4e23-d360-ce00c6755d4c",
        "colab": {
          "base_uri": "https://localhost:8080/",
          "height": 238
        }
      },
      "source": [
        "answer_ls.append(1)\n",
        "tmp = data.cast.str.split('|', expand=True).stack().reset_index().merge(data['profit'],left_on = 'level_0', right_on = data.index)\n",
        "tmp.groupby(0)['profit'].sum().sort_values()"
      ],
      "execution_count": 343,
      "outputs": [
        {
          "output_type": "execute_result",
          "data": {
            "text/plain": [
              "0\n",
              "Jang Dong-gun         -413912431\n",
              "Ti Lung               -413912431\n",
              "Kate Bosworth         -369455668\n",
              "Emilio EchevarrÃ­a    -119180039\n",
              "Elisabeth Harnois     -111007242\n",
              "                         ...    \n",
              "Robert Downey Jr.     5316030161\n",
              "Ian McKellen          6087375777\n",
              "Rupert Grint          6408638290\n",
              "Daniel Radcliffe      6514990281\n",
              "Emma Watson           6666245597\n",
              "Name: profit, Length: 3408, dtype: int64"
            ]
          },
          "metadata": {
            "tags": []
          },
          "execution_count": 343
        }
      ]
    },
    {
      "cell_type": "markdown",
      "metadata": {
        "id": "GpFyoct1D6gG",
        "colab_type": "text"
      },
      "source": [
        "# 17. Какой актер принес меньше всего прибыли в 2012 году?\n",
        "Варианты ответов:\n",
        "1. Nicolas Cage\n",
        "2. Danny Huston\n",
        "3. Kirsten Dunst\n",
        "4. Jim Sturgess\n",
        "5. Sami Gayle"
      ]
    },
    {
      "cell_type": "code",
      "metadata": {
        "trusted": true,
        "id": "0rQPTFpZD6gH",
        "colab_type": "code",
        "outputId": "8780d180-d425-435a-9a9d-20b173303e69",
        "colab": {
          "base_uri": "https://localhost:8080/",
          "height": 238
        }
      },
      "source": [
        "answer_ls.append(3)\n",
        "tmp = data[data['release_year'] == 2012].cast.str.split('|', expand=True).stack().reset_index().merge(data['profit'],left_on = 'level_0', right_on = data.index)\n",
        "tmp.groupby(0)['profit'].sum().sort_values()"
      ],
      "execution_count": 344,
      "outputs": [
        {
          "output_type": "execute_result",
          "data": {
            "text/plain": [
              "0\n",
              "Kirsten Dunst         -68109207\n",
              "Heidi Hawkins         -51893525\n",
              "James Kidnie          -51893525\n",
              "Timothy Spall         -51893525\n",
              "Malin Ã…kerman        -43733509\n",
              "                        ...    \n",
              "Robert Downey Jr.    1299557910\n",
              "Mark Ruffalo         1299557910\n",
              "Chris Evans          1299557910\n",
              "Denis Leary          1319460639\n",
              "Chris Hemsworth      1542450773\n",
              "Name: profit, Length: 466, dtype: int64"
            ]
          },
          "metadata": {
            "tags": []
          },
          "execution_count": 344
        }
      ]
    },
    {
      "cell_type": "markdown",
      "metadata": {
        "id": "J4XeO7siD6gK",
        "colab_type": "text"
      },
      "source": [
        "# 18. Какой актер снялся в большем количестве высокобюджетных фильмов? (в фильмах где бюджет выше среднего по данной выборке)\n",
        "Варианты ответов:\n",
        "1. Tom Cruise\n",
        "2. Mark Wahlberg \n",
        "3. Matt Damon\n",
        "4. Angelina Jolie\n",
        "5. Adam Sandler"
      ]
    },
    {
      "cell_type": "code",
      "metadata": {
        "trusted": true,
        "id": "1birWoPoD6gK",
        "colab_type": "code",
        "outputId": "319d0eb6-144f-489f-f99e-5f19cf3e66cd",
        "colab": {
          "base_uri": "https://localhost:8080/",
          "height": 221
        }
      },
      "source": [
        "answer_ls.append(3)\n",
        "tmp = data[data['budget'] > data['budget'].mean()].cast.str.split('|', expand=True).stack().value_counts()\n",
        "display(tmp)"
      ],
      "execution_count": 345,
      "outputs": [
        {
          "output_type": "display_data",
          "data": {
            "text/plain": [
              "Matt Damon           18\n",
              "Adam Sandler         17\n",
              "Angelina Jolie       16\n",
              "Eddie Murphy         15\n",
              "Samuel L. Jackson    15\n",
              "                     ..\n",
              "Piper Perabo          1\n",
              "Gary Cole             1\n",
              "Susie Essman          1\n",
              "Paul Soles            1\n",
              "John Ortiz            1\n",
              "Length: 1508, dtype: int64"
            ]
          },
          "metadata": {
            "tags": []
          }
        }
      ]
    },
    {
      "cell_type": "markdown",
      "metadata": {
        "id": "yfbFHEpWD6gN",
        "colab_type": "text"
      },
      "source": [
        "# 19. В фильмах какого жанра больше всего снимался Nicolas Cage?  \n",
        "Варианты ответа:\n",
        "1. Drama\n",
        "2. Action\n",
        "3. Thriller\n",
        "4. Adventure\n",
        "5. Crime"
      ]
    },
    {
      "cell_type": "code",
      "metadata": {
        "trusted": true,
        "id": "clGLcXy2D6gN",
        "colab_type": "code",
        "outputId": "90056627-ea98-4c22-b5e4-84006dabd413",
        "colab": {
          "base_uri": "https://localhost:8080/",
          "height": 272
        }
      },
      "source": [
        "answer_ls.append(2)\n",
        "count_genres= Counter()\n",
        "for x in data.loc[data['cast'].map(lambda x: True if 'Nicolas Cage' in x else False)]['genres'].str.split('|'):\n",
        "  count_genres+=Counter(x)\n",
        "display(count_genres.most_common())  "
      ],
      "execution_count": 346,
      "outputs": [
        {
          "output_type": "display_data",
          "data": {
            "text/plain": [
              "[('Action', 17),\n",
              " ('Thriller', 15),\n",
              " ('Drama', 12),\n",
              " ('Crime', 10),\n",
              " ('Fantasy', 8),\n",
              " ('Adventure', 7),\n",
              " ('Comedy', 6),\n",
              " ('Science Fiction', 4),\n",
              " ('Mystery', 3),\n",
              " ('Animation', 3),\n",
              " ('Family', 3),\n",
              " ('History', 2),\n",
              " ('War', 1),\n",
              " ('Horror', 1),\n",
              " ('Romance', 1)]"
            ]
          },
          "metadata": {
            "tags": []
          }
        }
      ]
    },
    {
      "cell_type": "markdown",
      "metadata": {
        "id": "T6wtnKpyD6gQ",
        "colab_type": "text"
      },
      "source": [
        "# 20. Какая студия сняла больше всего фильмов?\n",
        "Варианты ответа:\n",
        "1. Universal Pictures (Universal)\n",
        "2. Paramount Pictures\n",
        "3. Columbia Pictures\n",
        "4. Warner Bros\n",
        "5. Twentieth Century Fox Film Corporation"
      ]
    },
    {
      "cell_type": "code",
      "metadata": {
        "trusted": true,
        "id": "4F-n8EuLD6gQ",
        "colab_type": "code",
        "outputId": "131172f6-1c3f-49d7-a875-1a3a47ed42d1",
        "colab": {
          "base_uri": "https://localhost:8080/",
          "height": 51
        }
      },
      "source": [
        "answer_ls.append(1)\n",
        "tmp = data.production_companies.str.split('|', expand=True).stack().value_counts().head(1)\n",
        "display(tmp)"
      ],
      "execution_count": 347,
      "outputs": [
        {
          "output_type": "display_data",
          "data": {
            "text/plain": [
              "Universal Pictures    173\n",
              "dtype: int64"
            ]
          },
          "metadata": {
            "tags": []
          }
        }
      ]
    },
    {
      "cell_type": "markdown",
      "metadata": {
        "id": "kzVUD7XLD6gS",
        "colab_type": "text"
      },
      "source": [
        "# 21. Какая студия сняла больше всего фильмов в 2015 году?\n",
        "Варианты ответа:\n",
        "1. Universal Pictures\n",
        "2. Paramount Pictures\n",
        "3. Columbia Pictures\n",
        "4. Warner Bros\n",
        "5. Twentieth Century Fox Film Corporation"
      ]
    },
    {
      "cell_type": "code",
      "metadata": {
        "trusted": true,
        "id": "jCdO7emAD6gT",
        "colab_type": "code",
        "outputId": "d0f90b2f-22e2-47ab-dd6d-b0ae3505f4bf",
        "colab": {
          "base_uri": "https://localhost:8080/",
          "height": 51
        }
      },
      "source": [
        "answer_ls.append(4)\n",
        "tmp = data[data['release_year'] == 2015].production_companies.str.split('|', expand=True).stack().value_counts().head(1)\n",
        "display(tmp)"
      ],
      "execution_count": 348,
      "outputs": [
        {
          "output_type": "display_data",
          "data": {
            "text/plain": [
              "Warner Bros.    12\n",
              "dtype: int64"
            ]
          },
          "metadata": {
            "tags": []
          }
        }
      ]
    },
    {
      "cell_type": "markdown",
      "metadata": {
        "id": "Luau8392D6gV",
        "colab_type": "text"
      },
      "source": [
        "# 22. Какая студия заработала больше всего денег в жанре комедий за все время?\n",
        "Варианты ответа:\n",
        "1. Warner Bros\n",
        "2. Universal Pictures (Universal)\n",
        "3. Columbia Pictures\n",
        "4. Paramount Pictures\n",
        "5. Walt Disney"
      ]
    },
    {
      "cell_type": "code",
      "metadata": {
        "trusted": true,
        "id": "kXEpTvzFD6gV",
        "colab_type": "code",
        "colab": {
          "base_uri": "https://localhost:8080/",
          "height": 238
        },
        "outputId": "828d04fc-f8ae-42f2-aad2-ef38fc450c06"
      },
      "source": [
        "answer_ls.append(2)\n",
        "tmp = data.production_companies.str.split('|', expand=True).stack().reset_index().merge(data,left_on = 'level_0', right_on = data.index)\n",
        "tmp.rename(columns={0: 'company'}, inplace=True)\n",
        "genres = tmp[tmp.genres.str.contains('Comedy',na = False)]\n",
        "display(genres.groupby(['company'])['profit'].sum().sort_values(ascending = False))"
      ],
      "execution_count": 349,
      "outputs": [
        {
          "output_type": "display_data",
          "data": {
            "text/plain": [
              "company\n",
              "Universal Pictures                        8961545581\n",
              "Walt Disney Pictures                      7669710326\n",
              "Twentieth Century Fox Film Corporation    5686960294\n",
              "Columbia Pictures                         5646343696\n",
              "DreamWorks Animation                      4789049764\n",
              "                                             ...    \n",
              "Warner Bros. Pictures                      -54738687\n",
              "Shangri-La Entertainment                   -55170786\n",
              "Dark Horse Entertainment                   -68351500\n",
              "Road Rebel                                 -71331093\n",
              "Mel's Cite du Cinema                       -92896027\n",
              "Name: profit, Length: 702, dtype: int64"
            ]
          },
          "metadata": {
            "tags": []
          }
        }
      ]
    },
    {
      "cell_type": "markdown",
      "metadata": {
        "id": "FgFpaJTKD6gY",
        "colab_type": "text"
      },
      "source": [
        "# 23. Какая студия заработала больше всего денег в 2012 году?\n",
        "Варианты ответа:\n",
        "1. Universal Pictures (Universal)\n",
        "2. Warner Bros\n",
        "3. Columbia Pictures\n",
        "4. Paramount Pictures\n",
        "5. Lucasfilm"
      ]
    },
    {
      "cell_type": "code",
      "metadata": {
        "trusted": true,
        "id": "GbMd6meCD6gY",
        "colab_type": "code",
        "colab": {
          "base_uri": "https://localhost:8080/",
          "height": 238
        },
        "outputId": "14ddf14d-2403-4f93-e829-1ecfd1341a36"
      },
      "source": [
        "answer_ls.append(3)\n",
        "tmp = data[data['release_year'] == 2012].production_companies.str.split('|', expand=True).stack().reset_index().merge(data['profit'],left_on = 'level_0', right_on = data.index)\n",
        "tmp.groupby(0)['profit'].sum().sort_values()"
      ],
      "execution_count": 350,
      "outputs": [
        {
          "output_type": "execute_result",
          "data": {
            "text/plain": [
              "0\n",
              "France 2 CinÃ©ma       -82545651\n",
              "Studio 37              -51893525\n",
              "Transfilm              -51893525\n",
              "Onyx Films             -51893525\n",
              "Jouror Productions     -51893525\n",
              "                         ...    \n",
              "Relativity Media      1032593938\n",
              "Warner Bros.          1258020056\n",
              "Marvel Studios        1299557910\n",
              "Universal Pictures    1981011579\n",
              "Columbia Pictures     2501406608\n",
              "Name: profit, Length: 236, dtype: int64"
            ]
          },
          "metadata": {
            "tags": []
          },
          "execution_count": 350
        }
      ]
    },
    {
      "cell_type": "markdown",
      "metadata": {
        "id": "Odv2ZCV1D6gb",
        "colab_type": "text"
      },
      "source": [
        "# 24. Самый убыточный фильм от Paramount Pictures\n",
        "Варианты ответа:\n",
        "\n",
        "1. K-19: The Widowmaker tt0267626\n",
        "2. Next tt0435705\n",
        "3. Twisted tt0315297\n",
        "4. The Love Guru tt0811138\n",
        "5. The Fighter tt0964517"
      ]
    },
    {
      "cell_type": "code",
      "metadata": {
        "trusted": true,
        "id": "YgoQspc9D6gb",
        "colab_type": "code",
        "colab": {
          "base_uri": "https://localhost:8080/",
          "height": 185
        },
        "outputId": "f154cb41-a2e0-4148-f947-69ba0fefb1b9"
      },
      "source": [
        "answer_ls.append(1)\n",
        "tmp = data.production_companies.str.split('|', expand=True).stack().reset_index().merge(data,left_on = 'level_0', right_on = data.index)\n",
        "tmp = tmp[tmp[0] == 'Paramount Pictures']\n",
        "prof = tmp[tmp['profit']==tmp[tmp[0] == 'Paramount Pictures']['profit'].min()]\n",
        "display(prof)"
      ],
      "execution_count": 351,
      "outputs": [
        {
          "output_type": "display_data",
          "data": {
            "text/html": [
              "<div>\n",
              "<style scoped>\n",
              "    .dataframe tbody tr th:only-of-type {\n",
              "        vertical-align: middle;\n",
              "    }\n",
              "\n",
              "    .dataframe tbody tr th {\n",
              "        vertical-align: top;\n",
              "    }\n",
              "\n",
              "    .dataframe thead th {\n",
              "        text-align: right;\n",
              "    }\n",
              "</style>\n",
              "<table border=\"1\" class=\"dataframe\">\n",
              "  <thead>\n",
              "    <tr style=\"text-align: right;\">\n",
              "      <th></th>\n",
              "      <th>level_0</th>\n",
              "      <th>level_1</th>\n",
              "      <th>0</th>\n",
              "      <th>imdb_id</th>\n",
              "      <th>popularity</th>\n",
              "      <th>budget</th>\n",
              "      <th>revenue</th>\n",
              "      <th>original_title</th>\n",
              "      <th>cast</th>\n",
              "      <th>director</th>\n",
              "      <th>tagline</th>\n",
              "      <th>overview</th>\n",
              "      <th>runtime</th>\n",
              "      <th>genres</th>\n",
              "      <th>production_companies</th>\n",
              "      <th>release_date</th>\n",
              "      <th>vote_count</th>\n",
              "      <th>vote_average</th>\n",
              "      <th>release_year</th>\n",
              "      <th>month</th>\n",
              "      <th>profit</th>\n",
              "      <th>title_lenght</th>\n",
              "      <th>title_length</th>\n",
              "      <th>title_length_word</th>\n",
              "    </tr>\n",
              "  </thead>\n",
              "  <tbody>\n",
              "    <tr>\n",
              "      <th>2999</th>\n",
              "      <td>926</td>\n",
              "      <td>0</td>\n",
              "      <td>Paramount Pictures</td>\n",
              "      <td>tt0267626</td>\n",
              "      <td>0.72233</td>\n",
              "      <td>100000000</td>\n",
              "      <td>35168966</td>\n",
              "      <td>K-19: The Widowmaker</td>\n",
              "      <td>Harrison Ford|Liam Neeson|Peter Sarsgaard|Joss...</td>\n",
              "      <td>Kathryn Bigelow</td>\n",
              "      <td>Fate has found its hero.</td>\n",
              "      <td>When Russia's first nuclear submarine malfunct...</td>\n",
              "      <td>138</td>\n",
              "      <td>Thriller|Drama|History</td>\n",
              "      <td>Paramount Pictures|Intermedia Films|National G...</td>\n",
              "      <td>7/19/2002</td>\n",
              "      <td>146</td>\n",
              "      <td>6.0</td>\n",
              "      <td>2002</td>\n",
              "      <td>7</td>\n",
              "      <td>-64831034</td>\n",
              "      <td>20</td>\n",
              "      <td>20</td>\n",
              "      <td>3</td>\n",
              "    </tr>\n",
              "  </tbody>\n",
              "</table>\n",
              "</div>"
            ],
            "text/plain": [
              "      level_0  level_1  ... title_length title_length_word\n",
              "2999      926        0  ...           20                 3\n",
              "\n",
              "[1 rows x 24 columns]"
            ]
          },
          "metadata": {
            "tags": []
          }
        }
      ]
    },
    {
      "cell_type": "markdown",
      "metadata": {
        "id": "Uv8hqyxdD6gd",
        "colab_type": "text"
      },
      "source": [
        "# 25. Какой Самый прибыльный год (заработали больше всего)?\n",
        "Варианты ответа:\n",
        "1. 2014\n",
        "2. 2008\n",
        "3. 2012\n",
        "4. 2002\n",
        "5. 2015"
      ]
    },
    {
      "cell_type": "code",
      "metadata": {
        "trusted": true,
        "id": "cqVlEKoCD6ge",
        "colab_type": "code",
        "colab": {
          "base_uri": "https://localhost:8080/",
          "height": 323
        },
        "outputId": "f8a7b840-e6ec-4531-b14e-e23dc49345aa"
      },
      "source": [
        "answer_ls.append(5)\n",
        "data.groupby(['release_year'])['profit'].sum().sort_values(ascending = False)\n"
      ],
      "execution_count": 352,
      "outputs": [
        {
          "output_type": "execute_result",
          "data": {
            "text/plain": [
              "release_year\n",
              "2015    18668572378\n",
              "2014    16397812953\n",
              "2012    16077001687\n",
              "2013    15243179791\n",
              "2011    14730241341\n",
              "2009    13423744372\n",
              "2010    13117292530\n",
              "2008    11663881990\n",
              "2007    11565911801\n",
              "2004     9634180720\n",
              "2003     9228823312\n",
              "2002     9002361487\n",
              "2005     8981925558\n",
              "2006     8691077320\n",
              "2001     7950614865\n",
              "2000     6101399805\n",
              "Name: profit, dtype: int64"
            ]
          },
          "metadata": {
            "tags": []
          },
          "execution_count": 352
        }
      ]
    },
    {
      "cell_type": "markdown",
      "metadata": {
        "id": "71zvyanZD6gg",
        "colab_type": "text"
      },
      "source": [
        "# 26. Какой Самый прибыльный год для студии Warner Bros?\n",
        "Варианты ответа:\n",
        "1. 2014\n",
        "2. 2008\n",
        "3. 2012\n",
        "4. 2010\n",
        "5. 2015"
      ]
    },
    {
      "cell_type": "code",
      "metadata": {
        "trusted": true,
        "id": "RG5RFCjVD6gg",
        "colab_type": "code",
        "colab": {
          "base_uri": "https://localhost:8080/",
          "height": 323
        },
        "outputId": "0fb9fa6b-2430-46f8-a3d6-51cbbfd67e44"
      },
      "source": [
        "answer_ls.append(1)\n",
        "warner_df = data.loc[data['production_companies'].apply(lambda x: 'Warner Bros' in x)]\n",
        "grouped_df = warner_df.groupby(['release_year'])['revenue'].sum().sort_values(ascending = False)\n",
        "display(grouped_df)"
      ],
      "execution_count": 353,
      "outputs": [
        {
          "output_type": "display_data",
          "data": {
            "text/plain": [
              "release_year\n",
              "2014    3243064519\n",
              "2007    3183675217\n",
              "2008    3050595031\n",
              "2010    3008712985\n",
              "2011    2845393682\n",
              "2003    2745493377\n",
              "2009    2737954136\n",
              "2004    2731933725\n",
              "2013    2599953400\n",
              "2005    2412980298\n",
              "2001    2266545668\n",
              "2012    1869520056\n",
              "2002    1702709901\n",
              "2015    1691168351\n",
              "2006    1521170743\n",
              "2000    1025531386\n",
              "Name: revenue, dtype: int64"
            ]
          },
          "metadata": {
            "tags": []
          }
        }
      ]
    },
    {
      "cell_type": "markdown",
      "metadata": {
        "id": "wwYtT-wHD6gj",
        "colab_type": "text"
      },
      "source": [
        "# 27. В каком месяце за все годы суммарно вышло больше всего фильмов?\n",
        "Варианты ответа:\n",
        "1. Январь\n",
        "2. Июнь\n",
        "3. Декабрь\n",
        "4. Сентябрь\n",
        "5. Май"
      ]
    },
    {
      "cell_type": "code",
      "metadata": {
        "trusted": true,
        "id": "DqK1bDmjD6gj",
        "colab_type": "code",
        "colab": {
          "base_uri": "https://localhost:8080/",
          "height": 238
        },
        "outputId": "8e853ac8-dee5-45e6-9950-c23521d307f8"
      },
      "source": [
        "answer_ls.append(4)\n",
        "data['month'] = [release_date.split('/')[0] for release_date in data.release_date]\n",
        "data['month'].value_counts()"
      ],
      "execution_count": 354,
      "outputs": [
        {
          "output_type": "execute_result",
          "data": {
            "text/plain": [
              "9     227\n",
              "12    191\n",
              "10    186\n",
              "8     161\n",
              "3     156\n",
              "4     149\n",
              "6     147\n",
              "11    146\n",
              "7     142\n",
              "5     140\n",
              "2     135\n",
              "1     110\n",
              "Name: month, dtype: int64"
            ]
          },
          "metadata": {
            "tags": []
          },
          "execution_count": 354
        }
      ]
    },
    {
      "cell_type": "markdown",
      "metadata": {
        "id": "-hCDclNKD6gl",
        "colab_type": "text"
      },
      "source": [
        "# 28. Сколько суммарно вышло фильмов летом? (за июнь, июль, август)\n",
        "Варианты ответа:\n",
        "1. 345\n",
        "2. 450\n",
        "3. 478\n",
        "4. 523\n",
        "5. 381"
      ]
    },
    {
      "cell_type": "code",
      "metadata": {
        "trusted": true,
        "id": "Sr6du0idD6gm",
        "colab_type": "code",
        "colab": {
          "base_uri": "https://localhost:8080/",
          "height": 34
        },
        "outputId": "9868189b-68e6-47f0-a34c-7a41164d9764"
      },
      "source": [
        "answer_ls.append(2)\n",
        "date = data['month'].value_counts()\n",
        "display(date['6']+date['7']+date['8'] )"
      ],
      "execution_count": 355,
      "outputs": [
        {
          "output_type": "display_data",
          "data": {
            "text/plain": [
              "450"
            ]
          },
          "metadata": {
            "tags": []
          }
        }
      ]
    },
    {
      "cell_type": "markdown",
      "metadata": {
        "id": "r29kQUGWD6go",
        "colab_type": "text"
      },
      "source": [
        "# 29. Какой режисер выпускает (суммарно по годам) больше всего фильмов зимой?\n",
        "Варианты ответов:\n",
        "1. Steven Soderbergh\n",
        "2. Christopher Nolan\n",
        "3. Clint Eastwood\n",
        "4. Ridley Scott\n",
        "5. Peter Jackson"
      ]
    },
    {
      "cell_type": "code",
      "metadata": {
        "trusted": true,
        "id": "eggxQxL7D6gp",
        "colab_type": "code",
        "colab": {
          "base_uri": "https://localhost:8080/",
          "height": 221
        },
        "outputId": "2f76de78-8af4-4cce-f16b-73eb283a3afa"
      },
      "source": [
        "answer_ls.append(5)\n",
        "tmp = data.query('month in [\"12\",\"1\",\"2\"]')\n",
        "tmp = tmp.director.str.split('|', expand=True).stack().reset_index().merge(data,left_on = 'level_0', right_on = data.index)\n",
        "tmp[0].value_counts()\n"
      ],
      "execution_count": 356,
      "outputs": [
        {
          "output_type": "execute_result",
          "data": {
            "text/plain": [
              "Peter Jackson                       7\n",
              "Steven Soderbergh                   6\n",
              "Clint Eastwood                      6\n",
              "Shawn Levy                          4\n",
              "Nancy Meyers                        4\n",
              "                                   ..\n",
              "Will Gluck                          1\n",
              "Betty Thomas                        1\n",
              "Ed Gass-Donnelly                    1\n",
              "Florian Henckel von Donnersmarck    1\n",
              "Scott Waugh                         1\n",
              "Name: 0, Length: 359, dtype: int64"
            ]
          },
          "metadata": {
            "tags": []
          },
          "execution_count": 356
        }
      ]
    },
    {
      "cell_type": "markdown",
      "metadata": {
        "id": "K6BCtOUCD6gr",
        "colab_type": "text"
      },
      "source": [
        "# 30. Какой месяц чаще всего по годам самый прибыльный?\n",
        "Варианты ответа:\n",
        "1. Январь\n",
        "2. Июнь\n",
        "3. Декабрь\n",
        "4. Сентябрь\n",
        "5. Май"
      ]
    },
    {
      "cell_type": "code",
      "metadata": {
        "trusted": true,
        "id": "GhHi4kBzD6gs",
        "colab_type": "code",
        "colab": {
          "base_uri": "https://localhost:8080/",
          "height": 323
        },
        "outputId": "54ae4a78-8466-48ed-88f3-62a7a1b059c5"
      },
      "source": [
        "answer_ls.append(2)\n",
        "pivot = data.loc[data['month'].isin(['1','5','6','9','12'])].pivot_table(values=['profit'],index = ['release_year'], columns = ['month'], aggfunc = 'sum') \n",
        "display(pivot.idxmax(axis=1))"
      ],
      "execution_count": 357,
      "outputs": [
        {
          "output_type": "display_data",
          "data": {
            "text/plain": [
              "release_year\n",
              "2000    (profit, 12)\n",
              "2001    (profit, 12)\n",
              "2002    (profit, 12)\n",
              "2003     (profit, 5)\n",
              "2004     (profit, 5)\n",
              "2005     (profit, 5)\n",
              "2006     (profit, 6)\n",
              "2007     (profit, 6)\n",
              "2008     (profit, 6)\n",
              "2009    (profit, 12)\n",
              "2010     (profit, 6)\n",
              "2011     (profit, 5)\n",
              "2012     (profit, 6)\n",
              "2013     (profit, 6)\n",
              "2014     (profit, 5)\n",
              "2015     (profit, 6)\n",
              "dtype: object"
            ]
          },
          "metadata": {
            "tags": []
          }
        }
      ]
    },
    {
      "cell_type": "markdown",
      "metadata": {
        "id": "yZfh4U3ND6gu",
        "colab_type": "text"
      },
      "source": [
        "# 31. Названия фильмов какой студии в среднем самые длинные по количеству символов?\n",
        "Варианты ответа:\n",
        "1. Universal Pictures (Universal)\n",
        "2. Warner Bros\n",
        "3. Jim Henson Company, The\n",
        "4. Paramount Pictures\n",
        "5. Four By Two Productions"
      ]
    },
    {
      "cell_type": "code",
      "metadata": {
        "trusted": true,
        "id": "W-q5DcCsD6gv",
        "colab_type": "code",
        "colab": {
          "base_uri": "https://localhost:8080/",
          "height": 419
        },
        "outputId": "303123ae-b7da-463c-aa37-e7175246a28c"
      },
      "source": [
        "answer_ls.append(5)\n",
        "data['title_length'] = [len(original_title) for original_title in data.original_title]\n",
        "tmp = data.production_companies.str.split('|', expand=True).stack().reset_index().merge(data,left_on = 'level_0', right_on = data.index)\n",
        "sum_gen = tmp[0].value_counts()\n",
        "for gen in sum_gen.index:\n",
        "  sum_gen[gen] = data['title_length'][data['production_companies'].map(lambda x: True if gen in x else False)].mean()\n",
        "sum_gen = pd.DataFrame(sum_gen).sort_values(0, ascending = False)\n",
        "display(sum_gen)\n"
      ],
      "execution_count": 358,
      "outputs": [
        {
          "output_type": "display_data",
          "data": {
            "text/html": [
              "<div>\n",
              "<style scoped>\n",
              "    .dataframe tbody tr th:only-of-type {\n",
              "        vertical-align: middle;\n",
              "    }\n",
              "\n",
              "    .dataframe tbody tr th {\n",
              "        vertical-align: top;\n",
              "    }\n",
              "\n",
              "    .dataframe thead th {\n",
              "        text-align: right;\n",
              "    }\n",
              "</style>\n",
              "<table border=\"1\" class=\"dataframe\">\n",
              "  <thead>\n",
              "    <tr style=\"text-align: right;\">\n",
              "      <th></th>\n",
              "      <th>0</th>\n",
              "    </tr>\n",
              "  </thead>\n",
              "  <tbody>\n",
              "    <tr>\n",
              "      <th>Four By Two Productions</th>\n",
              "      <td>83</td>\n",
              "    </tr>\n",
              "    <tr>\n",
              "      <th>Jim Henson Company, The</th>\n",
              "      <td>59</td>\n",
              "    </tr>\n",
              "    <tr>\n",
              "      <th>Dos Corazones</th>\n",
              "      <td>47</td>\n",
              "    </tr>\n",
              "    <tr>\n",
              "      <th>Polsky Films</th>\n",
              "      <td>46</td>\n",
              "    </tr>\n",
              "    <tr>\n",
              "      <th>Museum Canada Productions</th>\n",
              "      <td>46</td>\n",
              "    </tr>\n",
              "    <tr>\n",
              "      <th>...</th>\n",
              "      <td>...</td>\n",
              "    </tr>\n",
              "    <tr>\n",
              "      <th>Berlanti Productions</th>\n",
              "      <td>3</td>\n",
              "    </tr>\n",
              "    <tr>\n",
              "      <th>Everest Entertainment</th>\n",
              "      <td>3</td>\n",
              "    </tr>\n",
              "    <tr>\n",
              "      <th>Global Entertainment Group</th>\n",
              "      <td>2</td>\n",
              "    </tr>\n",
              "    <tr>\n",
              "      <th>Ixtlan Productions</th>\n",
              "      <td>2</td>\n",
              "    </tr>\n",
              "    <tr>\n",
              "      <th>XM2 Productions</th>\n",
              "      <td>2</td>\n",
              "    </tr>\n",
              "  </tbody>\n",
              "</table>\n",
              "<p>1772 rows × 1 columns</p>\n",
              "</div>"
            ],
            "text/plain": [
              "                             0\n",
              "Four By Two Productions     83\n",
              "Jim Henson Company, The     59\n",
              "Dos Corazones               47\n",
              "Polsky Films                46\n",
              "Museum Canada Productions   46\n",
              "...                         ..\n",
              "Berlanti Productions         3\n",
              "Everest Entertainment        3\n",
              "Global Entertainment Group   2\n",
              "Ixtlan Productions           2\n",
              "XM2 Productions              2\n",
              "\n",
              "[1772 rows x 1 columns]"
            ]
          },
          "metadata": {
            "tags": []
          }
        }
      ]
    },
    {
      "cell_type": "markdown",
      "metadata": {
        "id": "D7vCw5PyD6gy",
        "colab_type": "text"
      },
      "source": [
        "# 32. Названия фильмов какой студии в среднем самые длинные по количеству слов?\n",
        "Варианты ответа:\n",
        "1. Universal Pictures (Universal)\n",
        "2. Warner Bros\n",
        "3. Jim Henson Company, The\n",
        "4. Paramount Pictures\n",
        "5. Four By Two Productions"
      ]
    },
    {
      "cell_type": "code",
      "metadata": {
        "trusted": true,
        "id": "bnzATecBD6gz",
        "colab_type": "code",
        "colab": {
          "base_uri": "https://localhost:8080/",
          "height": 419
        },
        "outputId": "04cfb6d4-f6eb-46b4-dd83-9fbb9870dcf7"
      },
      "source": [
        "answer_ls.append(5)\n",
        "data['title_length_word'] = [len(original_title.split()) for original_title in data.original_title]\n",
        "tmp = data.production_companies.str.split('|', expand=True).stack().reset_index().merge(data,left_on = 'level_0', right_on = data.index)\n",
        "sum_gen = tmp[0].value_counts()\n",
        "for gen in sum_gen.index:\n",
        "  sum_gen[gen] = data['title_length_word'][data['production_companies'].map(lambda x: True if gen in x else False)].mean()\n",
        "sum_gen = pd.DataFrame(sum_gen).sort_values(0, ascending = False)\n",
        "display(sum_gen)"
      ],
      "execution_count": 359,
      "outputs": [
        {
          "output_type": "display_data",
          "data": {
            "text/html": [
              "<div>\n",
              "<style scoped>\n",
              "    .dataframe tbody tr th:only-of-type {\n",
              "        vertical-align: middle;\n",
              "    }\n",
              "\n",
              "    .dataframe tbody tr th {\n",
              "        vertical-align: top;\n",
              "    }\n",
              "\n",
              "    .dataframe thead th {\n",
              "        text-align: right;\n",
              "    }\n",
              "</style>\n",
              "<table border=\"1\" class=\"dataframe\">\n",
              "  <thead>\n",
              "    <tr style=\"text-align: right;\">\n",
              "      <th></th>\n",
              "      <th>0</th>\n",
              "    </tr>\n",
              "  </thead>\n",
              "  <tbody>\n",
              "    <tr>\n",
              "      <th>Four By Two Productions</th>\n",
              "      <td>12</td>\n",
              "    </tr>\n",
              "    <tr>\n",
              "      <th>Jim Henson Company, The</th>\n",
              "      <td>10</td>\n",
              "    </tr>\n",
              "    <tr>\n",
              "      <th>Dos Corazones</th>\n",
              "      <td>9</td>\n",
              "    </tr>\n",
              "    <tr>\n",
              "      <th>Polsky Films</th>\n",
              "      <td>9</td>\n",
              "    </tr>\n",
              "    <tr>\n",
              "      <th>The Saul Zaentz Company</th>\n",
              "      <td>9</td>\n",
              "    </tr>\n",
              "    <tr>\n",
              "      <th>...</th>\n",
              "      <td>...</td>\n",
              "    </tr>\n",
              "    <tr>\n",
              "      <th>Egmond Film &amp; Television</th>\n",
              "      <td>1</td>\n",
              "    </tr>\n",
              "    <tr>\n",
              "      <th>Laura Bickford Productions</th>\n",
              "      <td>1</td>\n",
              "    </tr>\n",
              "    <tr>\n",
              "      <th>Liddell Entertainment</th>\n",
              "      <td>1</td>\n",
              "    </tr>\n",
              "    <tr>\n",
              "      <th>Rickshaw Productions</th>\n",
              "      <td>1</td>\n",
              "    </tr>\n",
              "    <tr>\n",
              "      <th>FilmWorks</th>\n",
              "      <td>1</td>\n",
              "    </tr>\n",
              "  </tbody>\n",
              "</table>\n",
              "<p>1772 rows × 1 columns</p>\n",
              "</div>"
            ],
            "text/plain": [
              "                             0\n",
              "Four By Two Productions     12\n",
              "Jim Henson Company, The     10\n",
              "Dos Corazones                9\n",
              "Polsky Films                 9\n",
              "The Saul Zaentz Company      9\n",
              "...                         ..\n",
              "Egmond Film & Television     1\n",
              "Laura Bickford Productions   1\n",
              "Liddell Entertainment        1\n",
              "Rickshaw Productions         1\n",
              "FilmWorks                    1\n",
              "\n",
              "[1772 rows x 1 columns]"
            ]
          },
          "metadata": {
            "tags": []
          }
        }
      ]
    },
    {
      "cell_type": "markdown",
      "metadata": {
        "id": "375FlXmuD6g1",
        "colab_type": "text"
      },
      "source": [
        "# 33. Сколько разных слов используется в названиях фильмов?(без учета регистра)\n",
        "Варианты ответа:\n",
        "1. 6540\n",
        "2. 1002\n",
        "3. 2461\n",
        "4. 28304\n",
        "5. 3432"
      ]
    },
    {
      "cell_type": "code",
      "metadata": {
        "trusted": true,
        "id": "96z10u9SD6g1",
        "colab_type": "code",
        "colab": {
          "base_uri": "https://localhost:8080/",
          "height": 34
        },
        "outputId": "96454ec8-9659-4045-ca35-d92a8c99bd11"
      },
      "source": [
        "answer_ls.append(3)\n",
        "words = set()\n",
        "for i in data['original_title'].to_list():\n",
        "  for j in i.lower().split():\n",
        "    words.add(j)\n",
        "print(len(words))    "
      ],
      "execution_count": 360,
      "outputs": [
        {
          "output_type": "stream",
          "text": [
            "2461\n"
          ],
          "name": "stdout"
        }
      ]
    },
    {
      "cell_type": "markdown",
      "metadata": {
        "id": "MtHvM_ucD6g5",
        "colab_type": "text"
      },
      "source": [
        "# 34. Какие фильмы входят в 1 процент лучших по рейтингу?\n",
        "Варианты ответа:\n",
        "1. Inside Out, Gone Girl, 12 Years a Slave\n",
        "2. BloodRayne, The Adventures of Rocky & Bullwinkle\n",
        "3. The Lord of the Rings: The Return of the King\n",
        "4. 300, Lucky Number Slevin"
      ]
    },
    {
      "cell_type": "code",
      "metadata": {
        "trusted": true,
        "id": "i7l82LOaD6g5",
        "colab_type": "code",
        "colab": {
          "base_uri": "https://localhost:8080/",
          "height": 1000
        },
        "outputId": "92c8e80e-ae20-426b-d156-e7eea0e051a6"
      },
      "source": [
        "answer_ls.append(1)\n",
        "data[data['vote_average']>data.quantile(0.99, numeric_only = True)['vote_average']]\n",
        "\n"
      ],
      "execution_count": 361,
      "outputs": [
        {
          "output_type": "execute_result",
          "data": {
            "text/html": [
              "<div>\n",
              "<style scoped>\n",
              "    .dataframe tbody tr th:only-of-type {\n",
              "        vertical-align: middle;\n",
              "    }\n",
              "\n",
              "    .dataframe tbody tr th {\n",
              "        vertical-align: top;\n",
              "    }\n",
              "\n",
              "    .dataframe thead th {\n",
              "        text-align: right;\n",
              "    }\n",
              "</style>\n",
              "<table border=\"1\" class=\"dataframe\">\n",
              "  <thead>\n",
              "    <tr style=\"text-align: right;\">\n",
              "      <th></th>\n",
              "      <th>imdb_id</th>\n",
              "      <th>popularity</th>\n",
              "      <th>budget</th>\n",
              "      <th>revenue</th>\n",
              "      <th>original_title</th>\n",
              "      <th>cast</th>\n",
              "      <th>director</th>\n",
              "      <th>tagline</th>\n",
              "      <th>overview</th>\n",
              "      <th>runtime</th>\n",
              "      <th>genres</th>\n",
              "      <th>production_companies</th>\n",
              "      <th>release_date</th>\n",
              "      <th>vote_count</th>\n",
              "      <th>vote_average</th>\n",
              "      <th>release_year</th>\n",
              "      <th>month</th>\n",
              "      <th>profit</th>\n",
              "      <th>title_lenght</th>\n",
              "      <th>title_length</th>\n",
              "      <th>title_length_word</th>\n",
              "    </tr>\n",
              "  </thead>\n",
              "  <tbody>\n",
              "    <tr>\n",
              "      <th>9</th>\n",
              "      <td>tt2096673</td>\n",
              "      <td>6.326804</td>\n",
              "      <td>175000000</td>\n",
              "      <td>853708609</td>\n",
              "      <td>Inside Out</td>\n",
              "      <td>Amy Poehler|Phyllis Smith|Richard Kind|Bill Ha...</td>\n",
              "      <td>Pete Docter</td>\n",
              "      <td>Meet the little voices inside your head.</td>\n",
              "      <td>Growing up can be a bumpy road, and it's no ex...</td>\n",
              "      <td>94</td>\n",
              "      <td>Comedy|Animation|Family</td>\n",
              "      <td>Walt Disney Pictures|Pixar Animation Studios|W...</td>\n",
              "      <td>6/9/2015</td>\n",
              "      <td>3935</td>\n",
              "      <td>8.0</td>\n",
              "      <td>2015</td>\n",
              "      <td>6</td>\n",
              "      <td>678708609</td>\n",
              "      <td>10</td>\n",
              "      <td>10</td>\n",
              "      <td>2</td>\n",
              "    </tr>\n",
              "    <tr>\n",
              "      <th>34</th>\n",
              "      <td>tt3170832</td>\n",
              "      <td>3.557846</td>\n",
              "      <td>6000000</td>\n",
              "      <td>35401758</td>\n",
              "      <td>Room</td>\n",
              "      <td>Brie Larson|Jacob Tremblay|Joan Allen|Sean Bri...</td>\n",
              "      <td>Lenny Abrahamson</td>\n",
              "      <td>Love knows no boundaries</td>\n",
              "      <td>Jack is a young boy of 5 years old who has liv...</td>\n",
              "      <td>117</td>\n",
              "      <td>Drama|Thriller</td>\n",
              "      <td>Element Pictures|No Trace Camping|A24|Duperele...</td>\n",
              "      <td>10/16/2015</td>\n",
              "      <td>1520</td>\n",
              "      <td>8.0</td>\n",
              "      <td>2015</td>\n",
              "      <td>10</td>\n",
              "      <td>29401758</td>\n",
              "      <td>4</td>\n",
              "      <td>4</td>\n",
              "      <td>1</td>\n",
              "    </tr>\n",
              "    <tr>\n",
              "      <th>118</th>\n",
              "      <td>tt0816692</td>\n",
              "      <td>24.949134</td>\n",
              "      <td>165000000</td>\n",
              "      <td>621752480</td>\n",
              "      <td>Interstellar</td>\n",
              "      <td>Matthew McConaughey|Jessica Chastain|Anne Hath...</td>\n",
              "      <td>Christopher Nolan</td>\n",
              "      <td>Mankind was born on Earth. It was never meant ...</td>\n",
              "      <td>Interstellar chronicles the adventures of a gr...</td>\n",
              "      <td>169</td>\n",
              "      <td>Adventure|Drama|Science Fiction</td>\n",
              "      <td>Paramount Pictures|Legendary Pictures|Warner B...</td>\n",
              "      <td>11/5/2014</td>\n",
              "      <td>6498</td>\n",
              "      <td>8.0</td>\n",
              "      <td>2014</td>\n",
              "      <td>11</td>\n",
              "      <td>456752480</td>\n",
              "      <td>12</td>\n",
              "      <td>12</td>\n",
              "      <td>1</td>\n",
              "    </tr>\n",
              "    <tr>\n",
              "      <th>119</th>\n",
              "      <td>tt2015381</td>\n",
              "      <td>14.311205</td>\n",
              "      <td>170000000</td>\n",
              "      <td>773312399</td>\n",
              "      <td>Guardians of the Galaxy</td>\n",
              "      <td>Chris Pratt|Zoe Saldana|Dave Bautista|Vin Dies...</td>\n",
              "      <td>James Gunn</td>\n",
              "      <td>All heroes start somewhere.</td>\n",
              "      <td>Light years from Earth, 26 years after being a...</td>\n",
              "      <td>121</td>\n",
              "      <td>Action|Science Fiction|Adventure</td>\n",
              "      <td>Marvel Studios|Moving Picture Company (MPC)|Bu...</td>\n",
              "      <td>7/30/2014</td>\n",
              "      <td>5612</td>\n",
              "      <td>7.9</td>\n",
              "      <td>2014</td>\n",
              "      <td>7</td>\n",
              "      <td>603312399</td>\n",
              "      <td>23</td>\n",
              "      <td>23</td>\n",
              "      <td>4</td>\n",
              "    </tr>\n",
              "    <tr>\n",
              "      <th>125</th>\n",
              "      <td>tt2084970</td>\n",
              "      <td>8.110711</td>\n",
              "      <td>14000000</td>\n",
              "      <td>233555708</td>\n",
              "      <td>The Imitation Game</td>\n",
              "      <td>Benedict Cumberbatch|Keira Knightley|Matthew G...</td>\n",
              "      <td>Morten Tyldum</td>\n",
              "      <td>The true enigma was the man who cracked the code.</td>\n",
              "      <td>Based on the real life story of legendary cryp...</td>\n",
              "      <td>113</td>\n",
              "      <td>History|Drama|Thriller|War</td>\n",
              "      <td>Black Bear Pictures|Bristol Automotive</td>\n",
              "      <td>11/14/2014</td>\n",
              "      <td>3478</td>\n",
              "      <td>8.0</td>\n",
              "      <td>2014</td>\n",
              "      <td>11</td>\n",
              "      <td>219555708</td>\n",
              "      <td>18</td>\n",
              "      <td>18</td>\n",
              "      <td>3</td>\n",
              "    </tr>\n",
              "    <tr>\n",
              "      <th>128</th>\n",
              "      <td>tt2267998</td>\n",
              "      <td>6.438727</td>\n",
              "      <td>61000000</td>\n",
              "      <td>369330363</td>\n",
              "      <td>Gone Girl</td>\n",
              "      <td>Ben Affleck|Rosamund Pike|Carrie Coon|Neil Pat...</td>\n",
              "      <td>David Fincher</td>\n",
              "      <td>You don't know what you've got 'til it's...</td>\n",
              "      <td>With his wife's disappearance having become th...</td>\n",
              "      <td>145</td>\n",
              "      <td>Mystery|Thriller|Drama</td>\n",
              "      <td>Twentieth Century Fox Film Corporation|Regency...</td>\n",
              "      <td>10/1/2014</td>\n",
              "      <td>3720</td>\n",
              "      <td>7.9</td>\n",
              "      <td>2014</td>\n",
              "      <td>10</td>\n",
              "      <td>308330363</td>\n",
              "      <td>9</td>\n",
              "      <td>9</td>\n",
              "      <td>2</td>\n",
              "    </tr>\n",
              "    <tr>\n",
              "      <th>138</th>\n",
              "      <td>tt2278388</td>\n",
              "      <td>4.930820</td>\n",
              "      <td>30000000</td>\n",
              "      <td>174600318</td>\n",
              "      <td>The Grand Budapest Hotel</td>\n",
              "      <td>Ralph Fiennes|Tony Revolori|F. Murray Abraham|...</td>\n",
              "      <td>Wes Anderson</td>\n",
              "      <td>A perfect holiday without leaving home.</td>\n",
              "      <td>The Grand Budapest Hotel tells of a legendary ...</td>\n",
              "      <td>99</td>\n",
              "      <td>Comedy|Drama</td>\n",
              "      <td>Fox Searchlight Pictures|Scott Rudin Productio...</td>\n",
              "      <td>2/26/2014</td>\n",
              "      <td>2802</td>\n",
              "      <td>7.9</td>\n",
              "      <td>2014</td>\n",
              "      <td>2</td>\n",
              "      <td>144600318</td>\n",
              "      <td>24</td>\n",
              "      <td>24</td>\n",
              "      <td>4</td>\n",
              "    </tr>\n",
              "    <tr>\n",
              "      <th>370</th>\n",
              "      <td>tt1375666</td>\n",
              "      <td>9.363643</td>\n",
              "      <td>160000000</td>\n",
              "      <td>825500000</td>\n",
              "      <td>Inception</td>\n",
              "      <td>Leonardo DiCaprio|Joseph Gordon-Levitt|Ellen P...</td>\n",
              "      <td>Christopher Nolan</td>\n",
              "      <td>Your mind is the scene of the crime.</td>\n",
              "      <td>Cobb, a skilled thief who commits corporate es...</td>\n",
              "      <td>148</td>\n",
              "      <td>Action|Thriller|Science Fiction|Mystery|Adventure</td>\n",
              "      <td>Legendary Pictures|Warner Bros.|Syncopy</td>\n",
              "      <td>7/14/2010</td>\n",
              "      <td>9767</td>\n",
              "      <td>7.9</td>\n",
              "      <td>2010</td>\n",
              "      <td>7</td>\n",
              "      <td>665500000</td>\n",
              "      <td>9</td>\n",
              "      <td>9</td>\n",
              "      <td>1</td>\n",
              "    </tr>\n",
              "    <tr>\n",
              "      <th>600</th>\n",
              "      <td>tt0468569</td>\n",
              "      <td>8.466668</td>\n",
              "      <td>185000000</td>\n",
              "      <td>1001921825</td>\n",
              "      <td>The Dark Knight</td>\n",
              "      <td>Christian Bale|Michael Caine|Heath Ledger|Aaro...</td>\n",
              "      <td>Christopher Nolan</td>\n",
              "      <td>Why So Serious?</td>\n",
              "      <td>Batman raises the stakes in his war on crime. ...</td>\n",
              "      <td>152</td>\n",
              "      <td>Drama|Action|Crime|Thriller</td>\n",
              "      <td>DC Comics|Legendary Pictures|Warner Bros.|Syncopy</td>\n",
              "      <td>7/16/2008</td>\n",
              "      <td>8432</td>\n",
              "      <td>8.1</td>\n",
              "      <td>2008</td>\n",
              "      <td>7</td>\n",
              "      <td>816921825</td>\n",
              "      <td>15</td>\n",
              "      <td>15</td>\n",
              "      <td>3</td>\n",
              "    </tr>\n",
              "    <tr>\n",
              "      <th>873</th>\n",
              "      <td>tt0253474</td>\n",
              "      <td>2.364204</td>\n",
              "      <td>35000000</td>\n",
              "      <td>120072577</td>\n",
              "      <td>The Pianist</td>\n",
              "      <td>Adrien Brody|Thomas Kretschmann|Frank Finlay|M...</td>\n",
              "      <td>Roman Polanski</td>\n",
              "      <td>Music was his passion. Survival was his master...</td>\n",
              "      <td>The Pianist is a film adapted from the biograp...</td>\n",
              "      <td>150</td>\n",
              "      <td>Drama|War</td>\n",
              "      <td>Bac Films|Canal+Polska|Heritage Films|Studio B...</td>\n",
              "      <td>9/24/2002</td>\n",
              "      <td>938</td>\n",
              "      <td>7.9</td>\n",
              "      <td>2002</td>\n",
              "      <td>9</td>\n",
              "      <td>85072577</td>\n",
              "      <td>11</td>\n",
              "      <td>11</td>\n",
              "      <td>2</td>\n",
              "    </tr>\n",
              "    <tr>\n",
              "      <th>1082</th>\n",
              "      <td>tt0167260</td>\n",
              "      <td>7.122455</td>\n",
              "      <td>94000000</td>\n",
              "      <td>1118888979</td>\n",
              "      <td>The Lord of the Rings: The Return of the King</td>\n",
              "      <td>Elijah Wood|Ian McKellen|Viggo Mortensen|Liv T...</td>\n",
              "      <td>Peter Jackson</td>\n",
              "      <td>The eye of the enemy is moving.</td>\n",
              "      <td>Aragorn is revealed as the heir to the ancient...</td>\n",
              "      <td>201</td>\n",
              "      <td>Adventure|Fantasy|Action</td>\n",
              "      <td>WingNut Films|New Line Cinema</td>\n",
              "      <td>12/1/2003</td>\n",
              "      <td>5636</td>\n",
              "      <td>7.9</td>\n",
              "      <td>2003</td>\n",
              "      <td>12</td>\n",
              "      <td>1024888979</td>\n",
              "      <td>45</td>\n",
              "      <td>45</td>\n",
              "      <td>10</td>\n",
              "    </tr>\n",
              "    <tr>\n",
              "      <th>1184</th>\n",
              "      <td>tt0993846</td>\n",
              "      <td>4.877927</td>\n",
              "      <td>100000000</td>\n",
              "      <td>392000694</td>\n",
              "      <td>The Wolf of Wall Street</td>\n",
              "      <td>Leonardo DiCaprio|Jonah Hill|Margot Robbie|Kyl...</td>\n",
              "      <td>Martin Scorsese</td>\n",
              "      <td>EARN. SPEND. PARTY.</td>\n",
              "      <td>A New York stockbroker refuses to cooperate in...</td>\n",
              "      <td>180</td>\n",
              "      <td>Crime|Drama|Comedy</td>\n",
              "      <td>Paramount Pictures|Appian Way|EMJAG Production...</td>\n",
              "      <td>12/25/2013</td>\n",
              "      <td>4027</td>\n",
              "      <td>7.9</td>\n",
              "      <td>2013</td>\n",
              "      <td>12</td>\n",
              "      <td>292000694</td>\n",
              "      <td>23</td>\n",
              "      <td>23</td>\n",
              "      <td>5</td>\n",
              "    </tr>\n",
              "    <tr>\n",
              "      <th>1192</th>\n",
              "      <td>tt2024544</td>\n",
              "      <td>3.625529</td>\n",
              "      <td>20000000</td>\n",
              "      <td>187000000</td>\n",
              "      <td>12 Years a Slave</td>\n",
              "      <td>Chiwetel Ejiofor|Michael Fassbender|Lupita Nyo...</td>\n",
              "      <td>Steve McQueen</td>\n",
              "      <td>The extraordinary true story of Solomon Northup</td>\n",
              "      <td>In the pre-Civil War United States, Solomon No...</td>\n",
              "      <td>134</td>\n",
              "      <td>Drama|History</td>\n",
              "      <td>Plan B Entertainment|Regency Enterprises|River...</td>\n",
              "      <td>10/18/2013</td>\n",
              "      <td>2241</td>\n",
              "      <td>7.9</td>\n",
              "      <td>2013</td>\n",
              "      <td>10</td>\n",
              "      <td>167000000</td>\n",
              "      <td>16</td>\n",
              "      <td>16</td>\n",
              "      <td>4</td>\n",
              "    </tr>\n",
              "    <tr>\n",
              "      <th>1801</th>\n",
              "      <td>tt0209144</td>\n",
              "      <td>3.095625</td>\n",
              "      <td>9000000</td>\n",
              "      <td>39723096</td>\n",
              "      <td>Memento</td>\n",
              "      <td>Guy Pearce|Carrie-Anne Moss|Joe Pantoliano|Mar...</td>\n",
              "      <td>Christopher Nolan</td>\n",
              "      <td>Some memories are best forgotten.</td>\n",
              "      <td>Suffering short-term memory loss after a head ...</td>\n",
              "      <td>113</td>\n",
              "      <td>Mystery|Thriller</td>\n",
              "      <td>Summit Entertainment|Newmarket Capital Group|T...</td>\n",
              "      <td>10/11/2000</td>\n",
              "      <td>2144</td>\n",
              "      <td>7.9</td>\n",
              "      <td>2000</td>\n",
              "      <td>10</td>\n",
              "      <td>30723096</td>\n",
              "      <td>7</td>\n",
              "      <td>7</td>\n",
              "      <td>1</td>\n",
              "    </tr>\n",
              "  </tbody>\n",
              "</table>\n",
              "</div>"
            ],
            "text/plain": [
              "        imdb_id  popularity  ...  title_length  title_length_word\n",
              "9     tt2096673    6.326804  ...            10                  2\n",
              "34    tt3170832    3.557846  ...             4                  1\n",
              "118   tt0816692   24.949134  ...            12                  1\n",
              "119   tt2015381   14.311205  ...            23                  4\n",
              "125   tt2084970    8.110711  ...            18                  3\n",
              "128   tt2267998    6.438727  ...             9                  2\n",
              "138   tt2278388    4.930820  ...            24                  4\n",
              "370   tt1375666    9.363643  ...             9                  1\n",
              "600   tt0468569    8.466668  ...            15                  3\n",
              "873   tt0253474    2.364204  ...            11                  2\n",
              "1082  tt0167260    7.122455  ...            45                 10\n",
              "1184  tt0993846    4.877927  ...            23                  5\n",
              "1192  tt2024544    3.625529  ...            16                  4\n",
              "1801  tt0209144    3.095625  ...             7                  1\n",
              "\n",
              "[14 rows x 21 columns]"
            ]
          },
          "metadata": {
            "tags": []
          },
          "execution_count": 361
        }
      ]
    },
    {
      "cell_type": "markdown",
      "metadata": {
        "id": "uuIdF8VgD6g7",
        "colab_type": "text"
      },
      "source": [
        "# 35. Какие актеры чаще всего снимаются в одном фильме вместе\n",
        "Варианты ответа:\n",
        "1. Johnny Depp & Helena Bonham Carter\n",
        "2. Hugh Jackman & Ian McKellen\n",
        "3. Vin Diesel & Paul Walker\n",
        "4. Adam Sandler & Kevin James\n",
        "5. Daniel Radcliffe & Rupert Grint"
      ]
    },
    {
      "cell_type": "code",
      "metadata": {
        "trusted": true,
        "id": "UpRY2XNBD6g8",
        "colab_type": "code",
        "colab": {
          "base_uri": "https://localhost:8080/",
          "height": 102
        },
        "outputId": "12b6c6c0-ab35-4376-8894-54b161104ff1"
      },
      "source": [
        "answer_ls.append(5)\n",
        "para_1 = 0\n",
        "para_2 = 0\n",
        "para_3 = 0\n",
        "para_4 = 0\n",
        "para_5 = 0\n",
        "for x in data['cast']:\n",
        "  if 'Johnny Depp' in x and 'Helena Bonham Carter' in x:\n",
        "      para_1+=1\n",
        "  if 'Hugh Jackman' in x and 'Ian McKellen' in x:\n",
        "      para_2+=1   \n",
        "  if 'Vin Diesel' in x  and  'Paul Walker' in x:\n",
        "      para_3+=1\n",
        "  if 'Adam Sandler' in x and  'Kevin James' in x:\n",
        "      para_4+=1\n",
        "  if 'Daniel Radcliffe'in x  and 'Rupert Grint' in x:\n",
        "      para_5+=1    \n",
        "display(para_1)  \n",
        "display(para_2)  \n",
        "display(para_3)  \n",
        "display(para_4)  \n",
        "display(para_5)    "
      ],
      "execution_count": 362,
      "outputs": [
        {
          "output_type": "display_data",
          "data": {
            "text/plain": [
              "6"
            ]
          },
          "metadata": {
            "tags": []
          }
        },
        {
          "output_type": "display_data",
          "data": {
            "text/plain": [
              "5"
            ]
          },
          "metadata": {
            "tags": []
          }
        },
        {
          "output_type": "display_data",
          "data": {
            "text/plain": [
              "5"
            ]
          },
          "metadata": {
            "tags": []
          }
        },
        {
          "output_type": "display_data",
          "data": {
            "text/plain": [
              "5"
            ]
          },
          "metadata": {
            "tags": []
          }
        },
        {
          "output_type": "display_data",
          "data": {
            "text/plain": [
              "8"
            ]
          },
          "metadata": {
            "tags": []
          }
        }
      ]
    },
    {
      "cell_type": "markdown",
      "metadata": {
        "id": "FPjVSMXOD6g-",
        "colab_type": "text"
      },
      "source": [
        "# 36. У какого из режиссеров выше вероятность выпустить фильм в прибыли? (5 баллов)101\n",
        "Варианты ответа:\n",
        "1. Quentin Tarantino\n",
        "2. Steven Soderbergh\n",
        "3. Robert Rodriguez\n",
        "4. Christopher Nolan\n",
        "5. Clint Eastwood"
      ]
    },
    {
      "cell_type": "code",
      "metadata": {
        "trusted": true,
        "id": "5Km3KqVED6g_",
        "colab_type": "code",
        "colab": {
          "base_uri": "https://localhost:8080/",
          "height": 136
        },
        "outputId": "3e358722-00cc-4b97-9c8f-f99968ef1061"
      },
      "source": [
        "answer_ls.append(4)\n",
        "tmp = data.director.str.split('|', expand=True).stack().reset_index().merge(data['profit'],left_on = 'level_0', right_on = data.index)\n",
        "tmp.rename(columns={0: 'direct'}, inplace=True)\n",
        "tmp = tmp.query('direct in [\"Quentin Tarantino\", \"Steven Soderbergh\", \"Robert Rodriguez\", \"Christopher Nolan\", \"Clint Eastwood\"]')\n",
        "tmp.groupby(['direct'])['profit'].sum().sort_values()\n"
      ],
      "execution_count": 363,
      "outputs": [
        {
          "output_type": "execute_result",
          "data": {
            "text/plain": [
              "direct\n",
              "Robert Rodriguez      496768969\n",
              "Quentin Tarantino    1036139583\n",
              "Clint Eastwood       1329766334\n",
              "Steven Soderbergh    1450928588\n",
              "Christopher Nolan    3162548502\n",
              "Name: profit, dtype: int64"
            ]
          },
          "metadata": {
            "tags": []
          },
          "execution_count": 363
        }
      ]
    },
    {
      "cell_type": "markdown",
      "metadata": {
        "id": "yz_1y1miD6hB",
        "colab_type": "text"
      },
      "source": [
        "# Submission"
      ]
    },
    {
      "cell_type": "code",
      "metadata": {
        "trusted": true,
        "id": "7D7Hq5PbD6hC",
        "colab_type": "code",
        "outputId": "d38490a0-faa4-4f4f-ab9a-69a526f9e465",
        "colab": {
          "base_uri": "https://localhost:8080/",
          "height": 34
        }
      },
      "source": [
        "len(answer_ls)"
      ],
      "execution_count": 364,
      "outputs": [
        {
          "output_type": "execute_result",
          "data": {
            "text/plain": [
              "36"
            ]
          },
          "metadata": {
            "tags": []
          },
          "execution_count": 364
        }
      ]
    },
    {
      "cell_type": "code",
      "metadata": {
        "trusted": true,
        "id": "P2Yotg8wD6hE",
        "colab_type": "code",
        "outputId": "ab463b0e-17d4-4b01-e47d-38e53ce86375",
        "colab": {
          "base_uri": "https://localhost:8080/",
          "height": 1000
        }
      },
      "source": [
        "pd.DataFrame({'Id':range(1,len(answer_ls)+1), 'Answer':answer_ls}, columns=['Id', 'Answer'])"
      ],
      "execution_count": 365,
      "outputs": [
        {
          "output_type": "execute_result",
          "data": {
            "text/html": [
              "<div>\n",
              "<style scoped>\n",
              "    .dataframe tbody tr th:only-of-type {\n",
              "        vertical-align: middle;\n",
              "    }\n",
              "\n",
              "    .dataframe tbody tr th {\n",
              "        vertical-align: top;\n",
              "    }\n",
              "\n",
              "    .dataframe thead th {\n",
              "        text-align: right;\n",
              "    }\n",
              "</style>\n",
              "<table border=\"1\" class=\"dataframe\">\n",
              "  <thead>\n",
              "    <tr style=\"text-align: right;\">\n",
              "      <th></th>\n",
              "      <th>Id</th>\n",
              "      <th>Answer</th>\n",
              "    </tr>\n",
              "  </thead>\n",
              "  <tbody>\n",
              "    <tr>\n",
              "      <th>0</th>\n",
              "      <td>1</td>\n",
              "      <td>4</td>\n",
              "    </tr>\n",
              "    <tr>\n",
              "      <th>1</th>\n",
              "      <td>2</td>\n",
              "      <td>2</td>\n",
              "    </tr>\n",
              "    <tr>\n",
              "      <th>2</th>\n",
              "      <td>3</td>\n",
              "      <td>3</td>\n",
              "    </tr>\n",
              "    <tr>\n",
              "      <th>3</th>\n",
              "      <td>4</td>\n",
              "      <td>2</td>\n",
              "    </tr>\n",
              "    <tr>\n",
              "      <th>4</th>\n",
              "      <td>5</td>\n",
              "      <td>1</td>\n",
              "    </tr>\n",
              "    <tr>\n",
              "      <th>5</th>\n",
              "      <td>6</td>\n",
              "      <td>5</td>\n",
              "    </tr>\n",
              "    <tr>\n",
              "      <th>6</th>\n",
              "      <td>7</td>\n",
              "      <td>2</td>\n",
              "    </tr>\n",
              "    <tr>\n",
              "      <th>7</th>\n",
              "      <td>8</td>\n",
              "      <td>1</td>\n",
              "    </tr>\n",
              "    <tr>\n",
              "      <th>8</th>\n",
              "      <td>9</td>\n",
              "      <td>4</td>\n",
              "    </tr>\n",
              "    <tr>\n",
              "      <th>9</th>\n",
              "      <td>10</td>\n",
              "      <td>5</td>\n",
              "    </tr>\n",
              "    <tr>\n",
              "      <th>10</th>\n",
              "      <td>11</td>\n",
              "      <td>3</td>\n",
              "    </tr>\n",
              "    <tr>\n",
              "      <th>11</th>\n",
              "      <td>12</td>\n",
              "      <td>1</td>\n",
              "    </tr>\n",
              "    <tr>\n",
              "      <th>12</th>\n",
              "      <td>13</td>\n",
              "      <td>3</td>\n",
              "    </tr>\n",
              "    <tr>\n",
              "      <th>13</th>\n",
              "      <td>14</td>\n",
              "      <td>4</td>\n",
              "    </tr>\n",
              "    <tr>\n",
              "      <th>14</th>\n",
              "      <td>15</td>\n",
              "      <td>5</td>\n",
              "    </tr>\n",
              "    <tr>\n",
              "      <th>15</th>\n",
              "      <td>16</td>\n",
              "      <td>1</td>\n",
              "    </tr>\n",
              "    <tr>\n",
              "      <th>16</th>\n",
              "      <td>17</td>\n",
              "      <td>3</td>\n",
              "    </tr>\n",
              "    <tr>\n",
              "      <th>17</th>\n",
              "      <td>18</td>\n",
              "      <td>3</td>\n",
              "    </tr>\n",
              "    <tr>\n",
              "      <th>18</th>\n",
              "      <td>19</td>\n",
              "      <td>2</td>\n",
              "    </tr>\n",
              "    <tr>\n",
              "      <th>19</th>\n",
              "      <td>20</td>\n",
              "      <td>1</td>\n",
              "    </tr>\n",
              "    <tr>\n",
              "      <th>20</th>\n",
              "      <td>21</td>\n",
              "      <td>4</td>\n",
              "    </tr>\n",
              "    <tr>\n",
              "      <th>21</th>\n",
              "      <td>22</td>\n",
              "      <td>2</td>\n",
              "    </tr>\n",
              "    <tr>\n",
              "      <th>22</th>\n",
              "      <td>23</td>\n",
              "      <td>3</td>\n",
              "    </tr>\n",
              "    <tr>\n",
              "      <th>23</th>\n",
              "      <td>24</td>\n",
              "      <td>1</td>\n",
              "    </tr>\n",
              "    <tr>\n",
              "      <th>24</th>\n",
              "      <td>25</td>\n",
              "      <td>5</td>\n",
              "    </tr>\n",
              "    <tr>\n",
              "      <th>25</th>\n",
              "      <td>26</td>\n",
              "      <td>1</td>\n",
              "    </tr>\n",
              "    <tr>\n",
              "      <th>26</th>\n",
              "      <td>27</td>\n",
              "      <td>4</td>\n",
              "    </tr>\n",
              "    <tr>\n",
              "      <th>27</th>\n",
              "      <td>28</td>\n",
              "      <td>2</td>\n",
              "    </tr>\n",
              "    <tr>\n",
              "      <th>28</th>\n",
              "      <td>29</td>\n",
              "      <td>5</td>\n",
              "    </tr>\n",
              "    <tr>\n",
              "      <th>29</th>\n",
              "      <td>30</td>\n",
              "      <td>2</td>\n",
              "    </tr>\n",
              "    <tr>\n",
              "      <th>30</th>\n",
              "      <td>31</td>\n",
              "      <td>5</td>\n",
              "    </tr>\n",
              "    <tr>\n",
              "      <th>31</th>\n",
              "      <td>32</td>\n",
              "      <td>5</td>\n",
              "    </tr>\n",
              "    <tr>\n",
              "      <th>32</th>\n",
              "      <td>33</td>\n",
              "      <td>3</td>\n",
              "    </tr>\n",
              "    <tr>\n",
              "      <th>33</th>\n",
              "      <td>34</td>\n",
              "      <td>1</td>\n",
              "    </tr>\n",
              "    <tr>\n",
              "      <th>34</th>\n",
              "      <td>35</td>\n",
              "      <td>5</td>\n",
              "    </tr>\n",
              "    <tr>\n",
              "      <th>35</th>\n",
              "      <td>36</td>\n",
              "      <td>4</td>\n",
              "    </tr>\n",
              "  </tbody>\n",
              "</table>\n",
              "</div>"
            ],
            "text/plain": [
              "    Id  Answer\n",
              "0    1       4\n",
              "1    2       2\n",
              "2    3       3\n",
              "3    4       2\n",
              "4    5       1\n",
              "5    6       5\n",
              "6    7       2\n",
              "7    8       1\n",
              "8    9       4\n",
              "9   10       5\n",
              "10  11       3\n",
              "11  12       1\n",
              "12  13       3\n",
              "13  14       4\n",
              "14  15       5\n",
              "15  16       1\n",
              "16  17       3\n",
              "17  18       3\n",
              "18  19       2\n",
              "19  20       1\n",
              "20  21       4\n",
              "21  22       2\n",
              "22  23       3\n",
              "23  24       1\n",
              "24  25       5\n",
              "25  26       1\n",
              "26  27       4\n",
              "27  28       2\n",
              "28  29       5\n",
              "29  30       2\n",
              "30  31       5\n",
              "31  32       5\n",
              "32  33       3\n",
              "33  34       1\n",
              "34  35       5\n",
              "35  36       4"
            ]
          },
          "metadata": {
            "tags": []
          },
          "execution_count": 365
        }
      ]
    },
    {
      "cell_type": "code",
      "metadata": {
        "trusted": false,
        "id": "XCy6l7tDD6hF",
        "colab_type": "code",
        "colab": {}
      },
      "source": [
        ""
      ],
      "execution_count": 0,
      "outputs": []
    }
  ]
}
